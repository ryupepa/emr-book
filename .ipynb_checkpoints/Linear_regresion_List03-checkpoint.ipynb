{
 "cells": [
  {
   "cell_type": "markdown",
   "id": "c8e9b6b9",
   "metadata": {},
   "source": [
    "# TSS, RSS, ESS"
   ]
  },
  {
   "cell_type": "markdown",
   "id": "1cc88ace",
   "metadata": {},
   "source": [
    "### Решение задачи 1.1.1 из [Листка 03](https://nbviewer.org/github/artamonoff/Econometrica/blob/master/%D0%97%D0%B0%D0%B4%D0%B0%D1%87%D0%B8/List03-Goodness-of-Fit.html)"
   ]
  },
  {
   "cell_type": "code",
   "execution_count": null,
   "id": "75ab3ab1",
   "metadata": {},
   "outputs": [],
   "source": [
    "import numpy as np\n",
    "import pandas as pd\n",
    "import io\n",
    "import statsmodels.formula.api as smf"
   ]
  },
  {
   "cell_type": "code",
   "execution_count": null,
   "id": "fb516e8b",
   "metadata": {},
   "outputs": [],
   "source": [
    "# определяем данные\n",
    "data_string ='''log(output) log(capital) log(labour) y.hat\n",
    "2.22            0.96        5.21     2.19 \n",
    "1.30            0.28        4.51     1.47 \n",
    "3.36            3.10        6.05     3.23 \n",
    "1.42            2.37        4.28     1.56 \n",
    "1.06            0.15        3.83     0.85 \n",
    "6.17            5.62        8.94     6.15 \n",
    "0.77            0.52        3.87     0.94 \n",
    "1.42            0.15        4.68     1.61 \n",
    "0.90           -0.13        3.56     0.57 \n",
    "1.35            1.25        4.28     1.40 '''"
   ]
  },
  {
   "cell_type": "code",
   "execution_count": null,
   "id": "462e0cf7",
   "metadata": {},
   "outputs": [],
   "source": [
    "# создаём DataFrame\n",
    "df = pd.read_csv(io.StringIO(data_string), sep='\\s+')\n",
    "df"
   ]
  },
  {
   "cell_type": "code",
   "execution_count": null,
   "id": "146db22d",
   "metadata": {},
   "outputs": [],
   "source": [
    "# Переименуем столбцы, так как log(output) интерпреитуется как функция логарифма от outpu\n",
    "df =df.rename(columns={\"log(output)\": \"LOGoutput\", \"log(capital)\": \"LOGcapital\", \"log(labour)\":'LOGlabour'})\n",
    "df"
   ]
  },
  {
   "cell_type": "markdown",
   "id": "7614eaf9",
   "metadata": {},
   "source": [
    "#### Первый способ вычисления парамметров регрессии. Согласно определению"
   ]
  },
  {
   "cell_type": "code",
   "execution_count": null,
   "id": "03c8139d",
   "metadata": {},
   "outputs": [],
   "source": [
    "# Вычислим общую сумму квадратов\n",
    "TSS = ((df['LOGoutput'] - np.mean(df['LOGoutput']))**2).sum()\n",
    "TSS.round(3)"
   ]
  },
  {
   "cell_type": "code",
   "execution_count": null,
   "id": "5b2f86db",
   "metadata": {},
   "outputs": [],
   "source": [
    "# Вычислим объяснённую сумму квадратов\n",
    "ESS = ((df['y.hat']- np.mean(df['LOGoutput']))**2).sum()"
   ]
  },
  {
   "cell_type": "code",
   "execution_count": null,
   "id": "e64c5a0c",
   "metadata": {},
   "outputs": [],
   "source": [
    "# Вычисли остаточную сумму квадртов\n",
    "RSS = ((df['LOGoutput'] - df['y.hat'])**2).sum()\n",
    "RSS.round(3)"
   ]
  },
  {
   "cell_type": "code",
   "execution_count": null,
   "id": "79b9968b",
   "metadata": {},
   "outputs": [],
   "source": [
    "# Коэффициент детерминации равен\n",
    "R2 = ESS.round(3)/TSS.round(3)\n",
    "R2.round(3)"
   ]
  },
  {
   "cell_type": "code",
   "execution_count": null,
   "id": "3b4b9ddc",
   "metadata": {},
   "outputs": [],
   "source": [
    "# Вычислим исправленный коэффициенте детерминации\n",
    "n = len(df) # количество измерений равно длине строк в исходной таблице минус 1, т.к. присутствует строка заголовака \n",
    "k = 2 # количество регрессорово\n",
    "RSS_adj = 1 - (RSS/TSS)*((n-1)/(n-k))\n",
    "RSS_adj"
   ]
  },
  {
   "cell_type": "markdown",
   "id": "9a7336a9",
   "metadata": {},
   "source": [
    "#### Второй способ вычисления парамметров регрессии"
   ]
  },
  {
   "cell_type": "code",
   "execution_count": null,
   "id": "27128a1e",
   "metadata": {},
   "outputs": [],
   "source": [
    "# Построем регрессионную модель. Обратите внимание, что так как в таблице даны значения логарифмом, то функция\n",
    "# np.log() мы не применяем\n",
    "fitted_line = smf.ols(formula='LOGoutput~LOGcapital+LOGlabour', data=df).fit()"
   ]
  },
  {
   "cell_type": "code",
   "execution_count": null,
   "id": "4b8c6bbe",
   "metadata": {},
   "outputs": [],
   "source": [
    "# Предсказанные значения регрессии \n",
    "fitted_line.predict().round(2)"
   ]
  },
  {
   "cell_type": "code",
   "execution_count": null,
   "id": "bfd8b544",
   "metadata": {},
   "outputs": [],
   "source": [
    "# Предсказанные значения регрессии в исходной таблице\n",
    "np.array(df['y.hat'])"
   ]
  },
  {
   "cell_type": "code",
   "execution_count": null,
   "id": "f0c7a5ea",
   "metadata": {},
   "outputs": [],
   "source": [
    "# Параметры регрессии\n",
    "fitted_line.params"
   ]
  },
  {
   "cell_type": "code",
   "execution_count": null,
   "id": "5fe8a957",
   "metadata": {},
   "outputs": [],
   "source": [
    "# Вычислим объяснённую сумму квадратов, используя регрессионную модель\n",
    "fitted_line.ess.round(3)"
   ]
  },
  {
   "cell_type": "code",
   "execution_count": null,
   "id": "eb9c4411",
   "metadata": {},
   "outputs": [],
   "source": [
    "# Вычислим полную сумму квадратов, используя регрессионную модель\n",
    "fitted_line.centered_tss.round(3)"
   ]
  },
  {
   "cell_type": "code",
   "execution_count": null,
   "id": "2ec81db5",
   "metadata": {},
   "outputs": [],
   "source": [
    "# Вычислим остаточную сумму квадратов, используя регрессионную модель\n",
    "fitted_line.ssr.round(3)"
   ]
  },
  {
   "cell_type": "code",
   "execution_count": null,
   "id": "720f9bdd",
   "metadata": {},
   "outputs": [],
   "source": [
    "# Вычислим коэффициент детерминации, используя регрессионную модель\n",
    "fitted_line.rsquared.round(3)"
   ]
  },
  {
   "cell_type": "code",
   "execution_count": null,
   "id": "197fa051",
   "metadata": {},
   "outputs": [],
   "source": [
    "fitted_line.rsquared_adj"
   ]
  }
 ],
 "metadata": {
  "kernelspec": {
   "display_name": "Python 3 (ipykernel)",
   "language": "python",
   "name": "python3"
  },
  "language_info": {
   "codemirror_mode": {
    "name": "ipython",
    "version": 3
   },
   "file_extension": ".py",
   "mimetype": "text/x-python",
   "name": "python",
   "nbconvert_exporter": "python",
   "pygments_lexer": "ipython3",
   "version": "3.8.8"
  },
  "vscode": {
   "interpreter": {
    "hash": "40d3a090f54c6569ab1632332b64b2c03c39dcf918b08424e98f38b5ae0af88f"
   }
  }
 },
 "nbformat": 4,
 "nbformat_minor": 5
}

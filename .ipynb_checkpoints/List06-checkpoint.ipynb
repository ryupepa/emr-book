{
 "cells": [
  {
   "cell_type": "markdown",
   "id": "b3067ab4",
   "metadata": {},
   "source": [
    "# Доверительные интервалы"
   ]
  },
  {
   "cell_type": "code",
   "execution_count": null,
   "id": "ab1b590e",
   "metadata": {},
   "outputs": [],
   "source": [
    "import pandas as pd\n",
    "import numpy as np\n",
    "import io\n",
    "import statsmodels.formula.api as smf\n",
    "import scipy.stats as stats\n",
    "import re # эта библиотека необходима для работы с регулярными выражениями"
   ]
  },
  {
   "cell_type": "markdown",
   "id": "cb0442ad",
   "metadata": {},
   "source": [
    "- \\d -- любая цифра.\n",
    "- \\D -- любая не цифра.\n",
    "- \\w -- любая буква.\n",
    "- \\W -- любая не буква.\n",
    "- \\s -- любой пробельный символ, включая пробел\n",
    "- \\S -- все символы, кроме пробельных\n",
    "- \\* -- любое количество вхождений предыдущего символа(группы символов), от 0 до бесконечности(группы символов)\n",
    "- \\+ -- любое количество вхождений предыдущего символа(группы символов), от 1 до бесконечности(группы символов)\n",
    "- ? -- 0 или 1 вхождение предыдущего символа(группы символов)\n",
    "- {n} -- точное количество вхождений - n раз предыдущего символа (группы символов)\n",
    "- {n,m} -- количество вхождений не менее n и не более m раз предыдущего символа\n",
    "- | -- логическое \"ИЛИ\"\n",
    "- [\\,] -- применяется \"ИЛИ\" к набору символов, любой из которых может встретиться в тексте"
   ]
  },
  {
   "cell_type": "markdown",
   "id": "5e7dd3a4",
   "metadata": {},
   "source": [
    "# $$ P(\\hat{\\beta_1} - t_{cr}\\cdot s_1 < \\beta < \\hat{\\beta_1} + t_{cr} \\cdot s_1) = \\gamma $$"
   ]
  },
  {
   "cell_type": "markdown",
   "id": "e77f18d8",
   "metadata": {},
   "source": [
    "#### Решение задачи 1.1 [Листок 06](https://nbviewer.org/github/artamonoff/Econometrica/blob/master/%D0%97%D0%B0%D0%B4%D0%B0%D1%87%D0%B8/List06-ConfIntervals.html): Доверительные интервалы.\n"
   ]
  },
  {
   "cell_type": "code",
   "execution_count": null,
   "id": "13d87ead",
   "metadata": {},
   "outputs": [],
   "source": [
    "alpha = 0.1\n",
    "t_cr = stats.t.ppf(1 - alpha/2, 526-7 )"
   ]
  },
  {
   "cell_type": "code",
   "execution_count": null,
   "id": "196d38ac",
   "metadata": {},
   "outputs": [],
   "source": [
    "date = '''totwrk                       -0.169***         \n",
    "                              (0.018)          \n",
    "                                               \n",
    "age                           2.689*           \n",
    "                              (1.469)          \n",
    "                                               \n",
    "south                        101.568**         \n",
    "                             (41.837)          \n",
    "                                               \n",
    "male                         87.669**          \n",
    "                             (35.104)          \n",
    "                                               \n",
    "smsa                         -54.748*          \n",
    "                             (33.123)          \n",
    "                                               \n",
    "yngkid                        -13.962          \n",
    "                             (50.341)          \n",
    "                                               \n",
    "marr                          31.211           \n",
    "                             (42.233)          \n",
    "                                               \n",
    "Constant                    3450.913***        \n",
    "                             (80.726)  '''"
   ]
  },
  {
   "cell_type": "code",
   "execution_count": null,
   "id": "74b0087d",
   "metadata": {},
   "outputs": [],
   "source": [
    "# Строку с данными можно разбить на 8 подстрок в 3 мя элементами в каждой, разделённых различными количеством пробелом.\n",
    "# С этим справится метод reshape() из библиотеки numpy\n",
    "np.reshape(date.strip().split(), (8,3) )"
   ]
  },
  {
   "cell_type": "code",
   "execution_count": null,
   "id": "b31907dc",
   "metadata": {},
   "outputs": [],
   "source": [
    "df = pd.DataFrame(np.reshape(date.strip().split(), (8,3) ), columns=['Coeff','Est str','std.err. str'])\n",
    "df"
   ]
  },
  {
   "cell_type": "markdown",
   "id": "a6e5312e",
   "metadata": {},
   "source": [
    "#### ([-+]?\\d+.\\d+)--- шаблон, который выделяет из строки десятичную дробь\n",
    "- [-+] -- знак плюс или мину\n",
    "- ? -- знаков может быть один, может не быть вообще\n",
    "- \\d+ --- неопределенное количество цифр.\n",
    "- \\. --- знак точки, для разделения десятичной дроби\n",
    "- () --- скобки обязательны, так как мы выделяем сразу группу элементов"
   ]
  },
  {
   "cell_type": "code",
   "execution_count": null,
   "id": "ed543f08",
   "metadata": {},
   "outputs": [],
   "source": [
    "df['Estimate'] = df['Est str'].str.extract(r'([-+]?\\d+.\\d+)').astype(float)\n",
    "df['Std.error'] = df['std.err. str'].str.extract(r'([-+]?\\d+.\\d+)').astype(float)\n",
    "df"
   ]
  },
  {
   "cell_type": "code",
   "execution_count": null,
   "id": "765d4941",
   "metadata": {},
   "outputs": [],
   "source": [
    "df['lower'] = (df['Estimate'] - df['Std.error']*t_cr).round(2)\n",
    "df['upper'] = (df['Estimate'] + df['Std.error']*t_cr).round(2)\n",
    "df"
   ]
  }
 ],
 "metadata": {
  "kernelspec": {
   "display_name": "Python 3 (ipykernel)",
   "language": "python",
   "name": "python3"
  },
  "language_info": {
   "codemirror_mode": {
    "name": "ipython",
    "version": 3
   },
   "file_extension": ".py",
   "mimetype": "text/x-python",
   "name": "python",
   "nbconvert_exporter": "python",
   "pygments_lexer": "ipython3",
   "version": "3.8.8"
  }
 },
 "nbformat": 4,
 "nbformat_minor": 5
}

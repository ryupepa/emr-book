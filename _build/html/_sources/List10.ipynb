{
 "cells": [
  {
   "cell_type": "markdown",
   "id": "db467754",
   "metadata": {},
   "source": [
    "# Спецификация"
   ]
  },
  {
   "cell_type": "code",
   "execution_count": null,
   "id": "4e653d08",
   "metadata": {},
   "outputs": [],
   "source": [
    "import pandas as pd\n",
    "import numpy as np\n",
    "import scipy.stats as stats\n",
    "import statsmodels.formula.api as smf"
   ]
  },
  {
   "cell_type": "markdown",
   "id": "9076040b",
   "metadata": {},
   "source": [
    "## 1.3 Output equation"
   ]
  },
  {
   "cell_type": "code",
   "execution_count": null,
   "id": "235d5aa7",
   "metadata": {},
   "outputs": [],
   "source": [
    "df = pd.read_csv('https://raw.githubusercontent.com/ryupepa/Econometrica/master/python-notebooks/data-csv/Labour.csv')\n",
    "df"
   ]
  },
  {
   "cell_type": "code",
   "execution_count": null,
   "id": "228d72e7",
   "metadata": {},
   "outputs": [],
   "source": [
    "model = smf.ols(data=df, formula='output~capital+labour+wage').fit()\n",
    "# Параметры модели совпадают с Вашими\n",
    "model.params"
   ]
  },
  {
   "cell_type": "code",
   "execution_count": null,
   "id": "e9b4f43f",
   "metadata": {},
   "outputs": [],
   "source": [
    "# Дополним датасет предсказанными знчениями переменной ouput соответсвующей степени\n",
    "df['out2'] =model.predict()**2\n",
    "df['out3'] =model.predict()**3\n",
    "df['out4'] =model.predict()**4"
   ]
  },
  {
   "cell_type": "code",
   "execution_count": null,
   "id": "388fef05",
   "metadata": {},
   "outputs": [],
   "source": [
    "model_un = smf.ols(data=df, formula='output~capital+labour+wage+out2+out3+out4').fit()"
   ]
  },
  {
   "cell_type": "code",
   "execution_count": null,
   "id": "9f1aea94",
   "metadata": {},
   "outputs": [],
   "source": [
    "R2=model_un.rsquared\n",
    "R2_res = model.rsquared"
   ]
  },
  {
   "cell_type": "code",
   "execution_count": null,
   "id": "8a83378b",
   "metadata": {},
   "outputs": [],
   "source": [
    "((R2 - R2_res)/(1-R2))*((len(df)-7)/3)"
   ]
  },
  {
   "cell_type": "code",
   "execution_count": null,
   "id": "b96e0dbb",
   "metadata": {},
   "outputs": [],
   "source": [
    "alpha = 0.05\n",
    "stats.f.ppf(1-alpha,3,len(df)-7).round(2)"
   ]
  },
  {
   "cell_type": "markdown",
   "id": "306d70f4",
   "metadata": {},
   "source": [
    "$F_{cr}< F_{obs}$ $\\Longrightarrow$  Гипотеза $H_0$ отвергается, данные не согласуются с гипотезой"
   ]
  }
 ],
 "metadata": {
  "kernelspec": {
   "display_name": "Python 3 (ipykernel)",
   "language": "python",
   "name": "python3"
  },
  "language_info": {
   "codemirror_mode": {
    "name": "ipython",
    "version": 3
   },
   "file_extension": ".py",
   "mimetype": "text/x-python",
   "name": "python",
   "nbconvert_exporter": "python",
   "pygments_lexer": "ipython3",
   "version": "3.8.8"
  }
 },
 "nbformat": 4,
 "nbformat_minor": 5
}

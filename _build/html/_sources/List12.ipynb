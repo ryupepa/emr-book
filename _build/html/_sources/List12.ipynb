{
 "cells": [
  {
   "cell_type": "markdown",
   "id": "acbc604a",
   "metadata": {},
   "source": [
    "# Серийная корреляция"
   ]
  },
  {
   "cell_type": "code",
   "execution_count": null,
   "id": "76c56c3d",
   "metadata": {},
   "outputs": [],
   "source": [
    "import pandas as pd\n",
    "import numpy as np\n",
    "import statsmodels.formula.api as smf\n",
    "import seaborn as sns\n",
    "import matplotlib.pyplot as plt\n",
    "import scipy.stats as stats"
   ]
  },
  {
   "cell_type": "code",
   "execution_count": null,
   "id": "525850f0",
   "metadata": {},
   "outputs": [],
   "source": [
    "df = pd.read_csv('https://raw.githubusercontent.com/artamonoff/Econometrica/master/python-notebooks/data-csv/icecream.csv')\n",
    "df"
   ]
  },
  {
   "cell_type": "code",
   "execution_count": null,
   "id": "70a3dbc9",
   "metadata": {},
   "outputs": [],
   "source": [
    "model = smf.ols(data=df, formula='cons~income+price+temp').fit()\n",
    "model.params.round(2)"
   ]
  },
  {
   "cell_type": "markdown",
   "id": "8bff6ea3",
   "metadata": {},
   "source": [
    "$$\n",
    "DW = \\frac{\\sum\\limits_{t=2}^{n}(e_t-e_{t-1})^2}{\\sum\\limits_{t=1}^{n}e_t^2}\n",
    "$$"
   ]
  },
  {
   "cell_type": "code",
   "execution_count": null,
   "id": "2f3ae46d",
   "metadata": {},
   "outputs": [],
   "source": [
    "# вычислим знаменатель\n",
    "resSq = sum(model.resid**2)"
   ]
  },
  {
   "cell_type": "code",
   "execution_count": null,
   "id": "ac52ae51",
   "metadata": {},
   "outputs": [],
   "source": [
    "# Вычислим числитель\n",
    "sum_resid = 0\n",
    "for i in range(len(model.resid)-1):\n",
    "    sum_resid+=(model.resid[i+1]-model.resid[i])**2"
   ]
  },
  {
   "cell_type": "code",
   "execution_count": null,
   "id": "6d55e05b",
   "metadata": {},
   "outputs": [],
   "source": [
    "sum_resid/resSq"
   ]
  },
  {
   "cell_type": "code",
   "execution_count": null,
   "id": "061287e6",
   "metadata": {},
   "outputs": [],
   "source": [
    "# LM/BG Тест"
   ]
  },
  {
   "cell_type": "code",
   "execution_count": null,
   "id": "913d87cb",
   "metadata": {},
   "outputs": [],
   "source": [
    "df = pd.read_csv('https://raw.githubusercontent.com/artamonoff/Econometrica/master/python-notebooks/data-csv/Consumption.csv')\n",
    "df"
   ]
  },
  {
   "cell_type": "code",
   "execution_count": null,
   "id": "032c0319",
   "metadata": {},
   "outputs": [],
   "source": [
    "df['log_yd'] = np.log(df['yd'])\n",
    "df['log_ce'] = np.log(df['ce'])\n",
    "mdl = smf.ols(data=df.diff(), formula='log_yd~log_ce').fit()\n",
    "mdl.resid"
   ]
  },
  {
   "cell_type": "code",
   "execution_count": null,
   "id": "249de5c3",
   "metadata": {},
   "outputs": [],
   "source": [
    "res0 = mdl.resid\n",
    "res_1 = mdl.resid\n",
    "res_1[1] = 0\n",
    "res_2 = res_1\n",
    "res_2[2] = 0 \n",
    "res_3 = res_2\n",
    "res_3[3] = 0\n",
    "res_3"
   ]
  },
  {
   "cell_type": "code",
   "execution_count": null,
   "id": "4f61caca",
   "metadata": {},
   "outputs": [],
   "source": [
    "df['res0'] = mdl.resid\n",
    "df['res1'] = df['res0']\n",
    "df['res1'][1].dell()\n",
    "df['res2'] = df['res1']\n",
    "df['res2'][2] = 0\n",
    "df['res3'] = df['res2']\n",
    "df['res3'][3] = 0\n",
    "df.dropna()\n"
   ]
  },
  {
   "cell_type": "code",
   "execution_count": null,
   "id": "0b82f9d7",
   "metadata": {},
   "outputs": [],
   "source": [
    "mdl2 = smf.ols(data=df, formula='res0~res1+res2+res3+log_yd.diff()+log_ce.diff()').fit()"
   ]
  },
  {
   "cell_type": "code",
   "execution_count": null,
   "id": "0b6511c6",
   "metadata": {},
   "outputs": [],
   "source": [
    "model.resid"
   ]
  },
  {
   "cell_type": "code",
   "execution_count": null,
   "id": "4ed1cb93",
   "metadata": {},
   "outputs": [],
   "source": [
    "res0 = model.resid.drop(labels = [0],axis = 0)\n",
    "res0"
   ]
  },
  {
   "cell_type": "code",
   "execution_count": null,
   "id": "9e720480",
   "metadata": {},
   "outputs": [],
   "source": []
  }
 ],
 "metadata": {
  "kernelspec": {
   "display_name": "Python 3 (ipykernel)",
   "language": "python",
   "name": "python3"
  },
  "language_info": {
   "codemirror_mode": {
    "name": "ipython",
    "version": 3
   },
   "file_extension": ".py",
   "mimetype": "text/x-python",
   "name": "python",
   "nbconvert_exporter": "python",
   "pygments_lexer": "ipython3",
   "version": "3.8.8"
  }
 },
 "nbformat": 4,
 "nbformat_minor": 5
}

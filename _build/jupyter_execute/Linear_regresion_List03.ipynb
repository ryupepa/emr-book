{
 "cells": [
  {
   "cell_type": "markdown",
   "id": "c8e9b6b9",
   "metadata": {},
   "source": [
    "# TSS, RSS, ESS"
   ]
  },
  {
   "cell_type": "markdown",
   "id": "1cc88ace",
   "metadata": {},
   "source": [
    "### Решение задачи 1.1.1 из [Листка 03](https://nbviewer.org/github/artamonoff/Econometrica/blob/master/%D0%97%D0%B0%D0%B4%D0%B0%D1%87%D0%B8/List03-Goodness-of-Fit.html)"
   ]
  },
  {
   "cell_type": "code",
   "execution_count": 1,
   "id": "75ab3ab1",
   "metadata": {},
   "outputs": [],
   "source": [
    "import numpy as np\n",
    "import pandas as pd\n",
    "import io\n",
    "import statsmodels.formula.api as smf"
   ]
  },
  {
   "cell_type": "code",
   "execution_count": 2,
   "id": "fb516e8b",
   "metadata": {},
   "outputs": [],
   "source": [
    "# определяем данные\n",
    "data_string ='''log(output) log(capital) log(labour) y.hat\n",
    "2.22            0.96        5.21     2.19 \n",
    "1.30            0.28        4.51     1.47 \n",
    "3.36            3.10        6.05     3.23 \n",
    "1.42            2.37        4.28     1.56 \n",
    "1.06            0.15        3.83     0.85 \n",
    "6.17            5.62        8.94     6.15 \n",
    "0.77            0.52        3.87     0.94 \n",
    "1.42            0.15        4.68     1.61 \n",
    "0.90           -0.13        3.56     0.57 \n",
    "1.35            1.25        4.28     1.40 '''"
   ]
  },
  {
   "cell_type": "code",
   "execution_count": 3,
   "id": "462e0cf7",
   "metadata": {},
   "outputs": [
    {
     "data": {
      "text/html": [
       "<div>\n",
       "<style scoped>\n",
       "    .dataframe tbody tr th:only-of-type {\n",
       "        vertical-align: middle;\n",
       "    }\n",
       "\n",
       "    .dataframe tbody tr th {\n",
       "        vertical-align: top;\n",
       "    }\n",
       "\n",
       "    .dataframe thead th {\n",
       "        text-align: right;\n",
       "    }\n",
       "</style>\n",
       "<table border=\"1\" class=\"dataframe\">\n",
       "  <thead>\n",
       "    <tr style=\"text-align: right;\">\n",
       "      <th></th>\n",
       "      <th>log(output)</th>\n",
       "      <th>log(capital)</th>\n",
       "      <th>log(labour)</th>\n",
       "      <th>y.hat</th>\n",
       "    </tr>\n",
       "  </thead>\n",
       "  <tbody>\n",
       "    <tr>\n",
       "      <th>0</th>\n",
       "      <td>2.22</td>\n",
       "      <td>0.96</td>\n",
       "      <td>5.21</td>\n",
       "      <td>2.19</td>\n",
       "    </tr>\n",
       "    <tr>\n",
       "      <th>1</th>\n",
       "      <td>1.30</td>\n",
       "      <td>0.28</td>\n",
       "      <td>4.51</td>\n",
       "      <td>1.47</td>\n",
       "    </tr>\n",
       "    <tr>\n",
       "      <th>2</th>\n",
       "      <td>3.36</td>\n",
       "      <td>3.10</td>\n",
       "      <td>6.05</td>\n",
       "      <td>3.23</td>\n",
       "    </tr>\n",
       "    <tr>\n",
       "      <th>3</th>\n",
       "      <td>1.42</td>\n",
       "      <td>2.37</td>\n",
       "      <td>4.28</td>\n",
       "      <td>1.56</td>\n",
       "    </tr>\n",
       "    <tr>\n",
       "      <th>4</th>\n",
       "      <td>1.06</td>\n",
       "      <td>0.15</td>\n",
       "      <td>3.83</td>\n",
       "      <td>0.85</td>\n",
       "    </tr>\n",
       "    <tr>\n",
       "      <th>5</th>\n",
       "      <td>6.17</td>\n",
       "      <td>5.62</td>\n",
       "      <td>8.94</td>\n",
       "      <td>6.15</td>\n",
       "    </tr>\n",
       "    <tr>\n",
       "      <th>6</th>\n",
       "      <td>0.77</td>\n",
       "      <td>0.52</td>\n",
       "      <td>3.87</td>\n",
       "      <td>0.94</td>\n",
       "    </tr>\n",
       "    <tr>\n",
       "      <th>7</th>\n",
       "      <td>1.42</td>\n",
       "      <td>0.15</td>\n",
       "      <td>4.68</td>\n",
       "      <td>1.61</td>\n",
       "    </tr>\n",
       "    <tr>\n",
       "      <th>8</th>\n",
       "      <td>0.90</td>\n",
       "      <td>-0.13</td>\n",
       "      <td>3.56</td>\n",
       "      <td>0.57</td>\n",
       "    </tr>\n",
       "    <tr>\n",
       "      <th>9</th>\n",
       "      <td>1.35</td>\n",
       "      <td>1.25</td>\n",
       "      <td>4.28</td>\n",
       "      <td>1.40</td>\n",
       "    </tr>\n",
       "  </tbody>\n",
       "</table>\n",
       "</div>"
      ],
      "text/plain": [
       "   log(output)  log(capital)  log(labour)  y.hat\n",
       "0         2.22          0.96         5.21   2.19\n",
       "1         1.30          0.28         4.51   1.47\n",
       "2         3.36          3.10         6.05   3.23\n",
       "3         1.42          2.37         4.28   1.56\n",
       "4         1.06          0.15         3.83   0.85\n",
       "5         6.17          5.62         8.94   6.15\n",
       "6         0.77          0.52         3.87   0.94\n",
       "7         1.42          0.15         4.68   1.61\n",
       "8         0.90         -0.13         3.56   0.57\n",
       "9         1.35          1.25         4.28   1.40"
      ]
     },
     "execution_count": 3,
     "metadata": {},
     "output_type": "execute_result"
    }
   ],
   "source": [
    "# создаём DataFrame\n",
    "df = pd.read_csv(io.StringIO(data_string), sep='\\s+')\n",
    "df"
   ]
  },
  {
   "cell_type": "code",
   "execution_count": 4,
   "id": "146db22d",
   "metadata": {},
   "outputs": [
    {
     "data": {
      "text/html": [
       "<div>\n",
       "<style scoped>\n",
       "    .dataframe tbody tr th:only-of-type {\n",
       "        vertical-align: middle;\n",
       "    }\n",
       "\n",
       "    .dataframe tbody tr th {\n",
       "        vertical-align: top;\n",
       "    }\n",
       "\n",
       "    .dataframe thead th {\n",
       "        text-align: right;\n",
       "    }\n",
       "</style>\n",
       "<table border=\"1\" class=\"dataframe\">\n",
       "  <thead>\n",
       "    <tr style=\"text-align: right;\">\n",
       "      <th></th>\n",
       "      <th>LOGoutput</th>\n",
       "      <th>LOGcapital</th>\n",
       "      <th>LOGlabour</th>\n",
       "      <th>y.hat</th>\n",
       "    </tr>\n",
       "  </thead>\n",
       "  <tbody>\n",
       "    <tr>\n",
       "      <th>0</th>\n",
       "      <td>2.22</td>\n",
       "      <td>0.96</td>\n",
       "      <td>5.21</td>\n",
       "      <td>2.19</td>\n",
       "    </tr>\n",
       "    <tr>\n",
       "      <th>1</th>\n",
       "      <td>1.30</td>\n",
       "      <td>0.28</td>\n",
       "      <td>4.51</td>\n",
       "      <td>1.47</td>\n",
       "    </tr>\n",
       "    <tr>\n",
       "      <th>2</th>\n",
       "      <td>3.36</td>\n",
       "      <td>3.10</td>\n",
       "      <td>6.05</td>\n",
       "      <td>3.23</td>\n",
       "    </tr>\n",
       "    <tr>\n",
       "      <th>3</th>\n",
       "      <td>1.42</td>\n",
       "      <td>2.37</td>\n",
       "      <td>4.28</td>\n",
       "      <td>1.56</td>\n",
       "    </tr>\n",
       "    <tr>\n",
       "      <th>4</th>\n",
       "      <td>1.06</td>\n",
       "      <td>0.15</td>\n",
       "      <td>3.83</td>\n",
       "      <td>0.85</td>\n",
       "    </tr>\n",
       "    <tr>\n",
       "      <th>5</th>\n",
       "      <td>6.17</td>\n",
       "      <td>5.62</td>\n",
       "      <td>8.94</td>\n",
       "      <td>6.15</td>\n",
       "    </tr>\n",
       "    <tr>\n",
       "      <th>6</th>\n",
       "      <td>0.77</td>\n",
       "      <td>0.52</td>\n",
       "      <td>3.87</td>\n",
       "      <td>0.94</td>\n",
       "    </tr>\n",
       "    <tr>\n",
       "      <th>7</th>\n",
       "      <td>1.42</td>\n",
       "      <td>0.15</td>\n",
       "      <td>4.68</td>\n",
       "      <td>1.61</td>\n",
       "    </tr>\n",
       "    <tr>\n",
       "      <th>8</th>\n",
       "      <td>0.90</td>\n",
       "      <td>-0.13</td>\n",
       "      <td>3.56</td>\n",
       "      <td>0.57</td>\n",
       "    </tr>\n",
       "    <tr>\n",
       "      <th>9</th>\n",
       "      <td>1.35</td>\n",
       "      <td>1.25</td>\n",
       "      <td>4.28</td>\n",
       "      <td>1.40</td>\n",
       "    </tr>\n",
       "  </tbody>\n",
       "</table>\n",
       "</div>"
      ],
      "text/plain": [
       "   LOGoutput  LOGcapital  LOGlabour  y.hat\n",
       "0       2.22        0.96       5.21   2.19\n",
       "1       1.30        0.28       4.51   1.47\n",
       "2       3.36        3.10       6.05   3.23\n",
       "3       1.42        2.37       4.28   1.56\n",
       "4       1.06        0.15       3.83   0.85\n",
       "5       6.17        5.62       8.94   6.15\n",
       "6       0.77        0.52       3.87   0.94\n",
       "7       1.42        0.15       4.68   1.61\n",
       "8       0.90       -0.13       3.56   0.57\n",
       "9       1.35        1.25       4.28   1.40"
      ]
     },
     "execution_count": 4,
     "metadata": {},
     "output_type": "execute_result"
    }
   ],
   "source": [
    "# Переименуем столбцы, так как log(output) интерпреитуется как функция логарифма от outpu\n",
    "df =df.rename(columns={\"log(output)\": \"LOGoutput\", \"log(capital)\": \"LOGcapital\", \"log(labour)\":'LOGlabour'})\n",
    "df"
   ]
  },
  {
   "cell_type": "markdown",
   "id": "7614eaf9",
   "metadata": {},
   "source": [
    "#### Первый способ вычисления парамметров регрессии. Согласно определению"
   ]
  },
  {
   "cell_type": "code",
   "execution_count": 5,
   "id": "03c8139d",
   "metadata": {},
   "outputs": [
    {
     "data": {
      "text/plain": [
       "24.479"
      ]
     },
     "execution_count": 5,
     "metadata": {},
     "output_type": "execute_result"
    }
   ],
   "source": [
    "# Вычислим общую сумму квадратов\n",
    "TSS = ((df['LOGoutput'] - np.mean(df['LOGoutput']))**2).sum()\n",
    "TSS.round(3)"
   ]
  },
  {
   "cell_type": "code",
   "execution_count": 6,
   "id": "5b2f86db",
   "metadata": {},
   "outputs": [],
   "source": [
    "# Вычислим объяснённую сумму квадратов\n",
    "ESS = ((df['y.hat']- np.mean(df['LOGoutput']))**2).sum()"
   ]
  },
  {
   "cell_type": "code",
   "execution_count": 7,
   "id": "e64c5a0c",
   "metadata": {},
   "outputs": [
    {
     "data": {
      "text/plain": [
       "0.287"
      ]
     },
     "execution_count": 7,
     "metadata": {},
     "output_type": "execute_result"
    }
   ],
   "source": [
    "# Вычисли остаточную сумму квадртов\n",
    "RSS = ((df['LOGoutput'] - df['y.hat'])**2).sum()\n",
    "RSS.round(3)"
   ]
  },
  {
   "cell_type": "code",
   "execution_count": 8,
   "id": "79b9968b",
   "metadata": {},
   "outputs": [
    {
     "data": {
      "text/plain": [
       "0.991"
      ]
     },
     "execution_count": 8,
     "metadata": {},
     "output_type": "execute_result"
    }
   ],
   "source": [
    "# Коэффициент детерминации равен\n",
    "R2 = ESS.round(3)/TSS.round(3)\n",
    "R2.round(3)"
   ]
  },
  {
   "cell_type": "code",
   "execution_count": 9,
   "id": "3b4b9ddc",
   "metadata": {},
   "outputs": [
    {
     "data": {
      "text/plain": [
       "0.9868007211193773"
      ]
     },
     "execution_count": 9,
     "metadata": {},
     "output_type": "execute_result"
    }
   ],
   "source": [
    "# Вычислим исправленный коэффициенте детерминации\n",
    "n = len(df) # количество измерений равно длине строк в исходной таблице минус 1, т.к. присутствует строка заголовака \n",
    "k = 2 # количество регрессорово\n",
    "RSS_adj = 1 - (RSS/TSS)*((n-1)/(n-k))\n",
    "RSS_adj"
   ]
  },
  {
   "cell_type": "markdown",
   "id": "9a7336a9",
   "metadata": {},
   "source": [
    "#### Второй способ вычисления парамметров регрессии"
   ]
  },
  {
   "cell_type": "code",
   "execution_count": 10,
   "id": "27128a1e",
   "metadata": {},
   "outputs": [],
   "source": [
    "# Построем регрессионную модель. Обратите внимание, что так как в таблице даны значения логарифмом, то функция\n",
    "# np.log() мы не применяем\n",
    "fitted_line = smf.ols(formula='LOGoutput~LOGcapital+LOGlabour', data=df).fit()"
   ]
  },
  {
   "cell_type": "code",
   "execution_count": 11,
   "id": "4b8c6bbe",
   "metadata": {},
   "outputs": [
    {
     "data": {
      "text/plain": [
       "array([2.19, 1.47, 3.23, 1.56, 0.85, 6.14, 0.94, 1.61, 0.57, 1.4 ])"
      ]
     },
     "execution_count": 11,
     "metadata": {},
     "output_type": "execute_result"
    }
   ],
   "source": [
    "# Предсказанные значения регрессии \n",
    "fitted_line.predict().round(2)"
   ]
  },
  {
   "cell_type": "code",
   "execution_count": 12,
   "id": "bfd8b544",
   "metadata": {},
   "outputs": [
    {
     "data": {
      "text/plain": [
       "array([2.19, 1.47, 3.23, 1.56, 0.85, 6.15, 0.94, 1.61, 0.57, 1.4 ])"
      ]
     },
     "execution_count": 12,
     "metadata": {},
     "output_type": "execute_result"
    }
   ],
   "source": [
    "# Предсказанные значения регрессии в исходной таблице\n",
    "np.array(df['y.hat'])"
   ]
  },
  {
   "cell_type": "code",
   "execution_count": 13,
   "id": "f0c7a5ea",
   "metadata": {},
   "outputs": [
    {
     "data": {
      "text/plain": [
       "Intercept    -2.568462\n",
       "LOGcapital    0.138515\n",
       "LOGlabour     0.887584\n",
       "dtype: float64"
      ]
     },
     "execution_count": 13,
     "metadata": {},
     "output_type": "execute_result"
    }
   ],
   "source": [
    "# Параметры регрессии\n",
    "fitted_line.params"
   ]
  },
  {
   "cell_type": "code",
   "execution_count": 14,
   "id": "5fe8a957",
   "metadata": {},
   "outputs": [
    {
     "data": {
      "text/plain": [
       "24.195"
      ]
     },
     "execution_count": 14,
     "metadata": {},
     "output_type": "execute_result"
    }
   ],
   "source": [
    "# Вычислим объяснённую сумму квадратов, используя регрессионную модель\n",
    "fitted_line.ess.round(3)"
   ]
  },
  {
   "cell_type": "code",
   "execution_count": 15,
   "id": "eb9c4411",
   "metadata": {},
   "outputs": [
    {
     "data": {
      "text/plain": [
       "24.479"
      ]
     },
     "execution_count": 15,
     "metadata": {},
     "output_type": "execute_result"
    }
   ],
   "source": [
    "# Вычислим полную сумму квадратов, используя регрессионную модель\n",
    "fitted_line.centered_tss.round(3)"
   ]
  },
  {
   "cell_type": "code",
   "execution_count": 16,
   "id": "2ec81db5",
   "metadata": {},
   "outputs": [
    {
     "data": {
      "text/plain": [
       "0.284"
      ]
     },
     "execution_count": 16,
     "metadata": {},
     "output_type": "execute_result"
    }
   ],
   "source": [
    "# Вычислим остаточную сумму квадратов, используя регрессионную модель\n",
    "fitted_line.ssr.round(3)"
   ]
  },
  {
   "cell_type": "code",
   "execution_count": 17,
   "id": "720f9bdd",
   "metadata": {},
   "outputs": [
    {
     "data": {
      "text/plain": [
       "0.988"
      ]
     },
     "execution_count": 17,
     "metadata": {},
     "output_type": "execute_result"
    }
   ],
   "source": [
    "# Вычислим коэффициент детерминации, используя регрессионную модель\n",
    "fitted_line.rsquared.round(3)"
   ]
  },
  {
   "cell_type": "code",
   "execution_count": 18,
   "id": "197fa051",
   "metadata": {},
   "outputs": [
    {
     "data": {
      "text/plain": [
       "0.9851056175825208"
      ]
     },
     "execution_count": 18,
     "metadata": {},
     "output_type": "execute_result"
    }
   ],
   "source": [
    "fitted_line.rsquared_adj"
   ]
  }
 ],
 "metadata": {
  "kernelspec": {
   "display_name": "Python 3 (ipykernel)",
   "language": "python",
   "name": "python3"
  },
  "language_info": {
   "codemirror_mode": {
    "name": "ipython",
    "version": 3
   },
   "file_extension": ".py",
   "mimetype": "text/x-python",
   "name": "python",
   "nbconvert_exporter": "python",
   "pygments_lexer": "ipython3",
   "version": "3.8.8"
  },
  "vscode": {
   "interpreter": {
    "hash": "40d3a090f54c6569ab1632332b64b2c03c39dcf918b08424e98f38b5ae0af88f"
   }
  }
 },
 "nbformat": 4,
 "nbformat_minor": 5
}
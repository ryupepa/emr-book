{
 "cells": [
  {
   "cell_type": "markdown",
   "id": "fb015d43",
   "metadata": {},
   "source": [
    "#  F-тест: значимость регрессии"
   ]
  },
  {
   "cell_type": "code",
   "execution_count": 1,
   "id": "c97495c3",
   "metadata": {},
   "outputs": [],
   "source": [
    "import pandas as pd\n",
    "import numpy as np\n",
    "import seaborn as sns\n",
    "import io\n",
    "import statsmodels.formula.api as smf\n",
    "import scipy.stats as stats"
   ]
  },
  {
   "cell_type": "markdown",
   "id": "348c0252",
   "metadata": {},
   "source": [
    "## 1.2 Значимость некоторых регрессоров. t-тест."
   ]
  },
  {
   "cell_type": "code",
   "execution_count": 2,
   "id": "edac3a52",
   "metadata": {},
   "outputs": [],
   "source": [
    "date_string = '''Observations     706         706         706         706    \n",
    "R2              0.132       0.131       0.128       0.007   \n",
    "AdjustedR2     0.121       0.123       0.121       0.002 ''' "
   ]
  },
  {
   "cell_type": "code",
   "execution_count": 3,
   "id": "a439a1bc",
   "metadata": {},
   "outputs": [
    {
     "data": {
      "text/html": [
       "<div>\n",
       "<style scoped>\n",
       "    .dataframe tbody tr th:only-of-type {\n",
       "        vertical-align: middle;\n",
       "    }\n",
       "\n",
       "    .dataframe tbody tr th {\n",
       "        vertical-align: top;\n",
       "    }\n",
       "\n",
       "    .dataframe thead th {\n",
       "        text-align: right;\n",
       "    }\n",
       "</style>\n",
       "<table border=\"1\" class=\"dataframe\">\n",
       "  <thead>\n",
       "    <tr style=\"text-align: right;\">\n",
       "      <th></th>\n",
       "      <th>1</th>\n",
       "      <th>2</th>\n",
       "      <th>3</th>\n",
       "      <th>4</th>\n",
       "    </tr>\n",
       "    <tr>\n",
       "      <th>0</th>\n",
       "      <th></th>\n",
       "      <th></th>\n",
       "      <th></th>\n",
       "      <th></th>\n",
       "    </tr>\n",
       "  </thead>\n",
       "  <tbody>\n",
       "    <tr>\n",
       "      <th>Observations</th>\n",
       "      <td>706.000</td>\n",
       "      <td>706.000</td>\n",
       "      <td>706.000</td>\n",
       "      <td>706.000</td>\n",
       "    </tr>\n",
       "    <tr>\n",
       "      <th>R2</th>\n",
       "      <td>0.132</td>\n",
       "      <td>0.131</td>\n",
       "      <td>0.128</td>\n",
       "      <td>0.007</td>\n",
       "    </tr>\n",
       "    <tr>\n",
       "      <th>AdjustedR2</th>\n",
       "      <td>0.121</td>\n",
       "      <td>0.123</td>\n",
       "      <td>0.121</td>\n",
       "      <td>0.002</td>\n",
       "    </tr>\n",
       "  </tbody>\n",
       "</table>\n",
       "</div>"
      ],
      "text/plain": [
       "                    1        2        3        4\n",
       "0                                               \n",
       "Observations  706.000  706.000  706.000  706.000\n",
       "R2              0.132    0.131    0.128    0.007\n",
       "AdjustedR2      0.121    0.123    0.121    0.002"
      ]
     },
     "execution_count": 3,
     "metadata": {},
     "output_type": "execute_result"
    }
   ],
   "source": [
    "df = pd.read_csv(io.StringIO(date_string), \n",
    "    delimiter='\\s+', header=None, index_col=0)\n",
    "df"
   ]
  },
  {
   "cell_type": "code",
   "execution_count": 4,
   "id": "f4128368",
   "metadata": {},
   "outputs": [
    {
     "data": {
      "text/html": [
       "<div>\n",
       "<style scoped>\n",
       "    .dataframe tbody tr th:only-of-type {\n",
       "        vertical-align: middle;\n",
       "    }\n",
       "\n",
       "    .dataframe tbody tr th {\n",
       "        vertical-align: top;\n",
       "    }\n",
       "\n",
       "    .dataframe thead th {\n",
       "        text-align: right;\n",
       "    }\n",
       "</style>\n",
       "<table border=\"1\" class=\"dataframe\">\n",
       "  <thead>\n",
       "    <tr style=\"text-align: right;\">\n",
       "      <th></th>\n",
       "      <th>Observations</th>\n",
       "      <th>R2</th>\n",
       "      <th>AdjustedR2</th>\n",
       "    </tr>\n",
       "  </thead>\n",
       "  <tbody>\n",
       "    <tr>\n",
       "      <th>1</th>\n",
       "      <td>706.0</td>\n",
       "      <td>0.132</td>\n",
       "      <td>0.121</td>\n",
       "    </tr>\n",
       "    <tr>\n",
       "      <th>2</th>\n",
       "      <td>706.0</td>\n",
       "      <td>0.131</td>\n",
       "      <td>0.123</td>\n",
       "    </tr>\n",
       "    <tr>\n",
       "      <th>3</th>\n",
       "      <td>706.0</td>\n",
       "      <td>0.128</td>\n",
       "      <td>0.121</td>\n",
       "    </tr>\n",
       "    <tr>\n",
       "      <th>4</th>\n",
       "      <td>706.0</td>\n",
       "      <td>0.007</td>\n",
       "      <td>0.002</td>\n",
       "    </tr>\n",
       "  </tbody>\n",
       "</table>\n",
       "</div>"
      ],
      "text/plain": [
       "0  Observations     R2  AdjustedR2\n",
       "1         706.0  0.132       0.121\n",
       "2         706.0  0.131       0.123\n",
       "3         706.0  0.128       0.121\n",
       "4         706.0  0.007       0.002"
      ]
     },
     "execution_count": 4,
     "metadata": {},
     "output_type": "execute_result"
    }
   ],
   "source": [
    "df = df.transpose()\n",
    "df"
   ]
  },
  {
   "cell_type": "code",
   "execution_count": 5,
   "id": "0de5a39c",
   "metadata": {},
   "outputs": [
    {
     "data": {
      "text/html": [
       "<div>\n",
       "<style scoped>\n",
       "    .dataframe tbody tr th:only-of-type {\n",
       "        vertical-align: middle;\n",
       "    }\n",
       "\n",
       "    .dataframe tbody tr th {\n",
       "        vertical-align: top;\n",
       "    }\n",
       "\n",
       "    .dataframe thead th {\n",
       "        text-align: right;\n",
       "    }\n",
       "</style>\n",
       "<table border=\"1\" class=\"dataframe\">\n",
       "  <thead>\n",
       "    <tr style=\"text-align: right;\">\n",
       "      <th></th>\n",
       "      <th>Observations</th>\n",
       "      <th>R2</th>\n",
       "      <th>AdjustedR2</th>\n",
       "      <th>m</th>\n",
       "    </tr>\n",
       "  </thead>\n",
       "  <tbody>\n",
       "    <tr>\n",
       "      <th>1</th>\n",
       "      <td>706.0</td>\n",
       "      <td>0.132</td>\n",
       "      <td>0.121</td>\n",
       "      <td>10</td>\n",
       "    </tr>\n",
       "    <tr>\n",
       "      <th>2</th>\n",
       "      <td>706.0</td>\n",
       "      <td>0.131</td>\n",
       "      <td>0.123</td>\n",
       "      <td>8</td>\n",
       "    </tr>\n",
       "    <tr>\n",
       "      <th>3</th>\n",
       "      <td>706.0</td>\n",
       "      <td>0.128</td>\n",
       "      <td>0.121</td>\n",
       "      <td>6</td>\n",
       "    </tr>\n",
       "    <tr>\n",
       "      <th>4</th>\n",
       "      <td>706.0</td>\n",
       "      <td>0.007</td>\n",
       "      <td>0.002</td>\n",
       "      <td>5</td>\n",
       "    </tr>\n",
       "  </tbody>\n",
       "</table>\n",
       "</div>"
      ],
      "text/plain": [
       "0  Observations     R2  AdjustedR2   m\n",
       "1         706.0  0.132       0.121  10\n",
       "2         706.0  0.131       0.123   8\n",
       "3         706.0  0.128       0.121   6\n",
       "4         706.0  0.007       0.002   5"
      ]
     },
     "execution_count": 5,
     "metadata": {},
     "output_type": "execute_result"
    }
   ],
   "source": [
    "# Заполним столбец значением m\n",
    "df['m'] = [10,8,6,5]\n",
    "df"
   ]
  },
  {
   "cell_type": "code",
   "execution_count": 6,
   "id": "310543bd",
   "metadata": {},
   "outputs": [
    {
     "data": {
      "text/html": [
       "<div>\n",
       "<style scoped>\n",
       "    .dataframe tbody tr th:only-of-type {\n",
       "        vertical-align: middle;\n",
       "    }\n",
       "\n",
       "    .dataframe tbody tr th {\n",
       "        vertical-align: top;\n",
       "    }\n",
       "\n",
       "    .dataframe thead th {\n",
       "        text-align: right;\n",
       "    }\n",
       "</style>\n",
       "<table border=\"1\" class=\"dataframe\">\n",
       "  <thead>\n",
       "    <tr style=\"text-align: right;\">\n",
       "      <th></th>\n",
       "      <th>Observations</th>\n",
       "      <th>R2</th>\n",
       "      <th>AdjustedR2</th>\n",
       "      <th>m</th>\n",
       "      <th>F_nab</th>\n",
       "    </tr>\n",
       "  </thead>\n",
       "  <tbody>\n",
       "    <tr>\n",
       "      <th>1</th>\n",
       "      <td>706.0</td>\n",
       "      <td>0.132</td>\n",
       "      <td>0.121</td>\n",
       "      <td>10</td>\n",
       "      <td>11.760369</td>\n",
       "    </tr>\n",
       "    <tr>\n",
       "      <th>2</th>\n",
       "      <td>706.0</td>\n",
       "      <td>0.131</td>\n",
       "      <td>0.123</td>\n",
       "      <td>8</td>\n",
       "      <td>15.031728</td>\n",
       "    </tr>\n",
       "    <tr>\n",
       "      <th>3</th>\n",
       "      <td>706.0</td>\n",
       "      <td>0.128</td>\n",
       "      <td>0.121</td>\n",
       "      <td>6</td>\n",
       "      <td>20.550459</td>\n",
       "    </tr>\n",
       "    <tr>\n",
       "      <th>4</th>\n",
       "      <td>706.0</td>\n",
       "      <td>0.007</td>\n",
       "      <td>0.002</td>\n",
       "      <td>5</td>\n",
       "      <td>1.235398</td>\n",
       "    </tr>\n",
       "  </tbody>\n",
       "</table>\n",
       "</div>"
      ],
      "text/plain": [
       "0  Observations     R2  AdjustedR2   m      F_nab\n",
       "1         706.0  0.132       0.121  10  11.760369\n",
       "2         706.0  0.131       0.123   8  15.031728\n",
       "3         706.0  0.128       0.121   6  20.550459\n",
       "4         706.0  0.007       0.002   5   1.235398"
      ]
     },
     "execution_count": 6,
     "metadata": {},
     "output_type": "execute_result"
    }
   ],
   "source": [
    "df['F_nab'] = (df['R2']/(1-df['R2']))*((df['Observations']-df['m'])/(df['m']-1))\n",
    "df"
   ]
  },
  {
   "cell_type": "code",
   "execution_count": 7,
   "id": "b39bebef",
   "metadata": {},
   "outputs": [
    {
     "data": {
      "text/html": [
       "<div>\n",
       "<style scoped>\n",
       "    .dataframe tbody tr th:only-of-type {\n",
       "        vertical-align: middle;\n",
       "    }\n",
       "\n",
       "    .dataframe tbody tr th {\n",
       "        vertical-align: top;\n",
       "    }\n",
       "\n",
       "    .dataframe thead th {\n",
       "        text-align: right;\n",
       "    }\n",
       "</style>\n",
       "<table border=\"1\" class=\"dataframe\">\n",
       "  <thead>\n",
       "    <tr style=\"text-align: right;\">\n",
       "      <th></th>\n",
       "      <th>Observations</th>\n",
       "      <th>R2</th>\n",
       "      <th>AdjustedR2</th>\n",
       "      <th>m</th>\n",
       "      <th>F_nab</th>\n",
       "      <th>F_cr</th>\n",
       "    </tr>\n",
       "  </thead>\n",
       "  <tbody>\n",
       "    <tr>\n",
       "      <th>1</th>\n",
       "      <td>706.0</td>\n",
       "      <td>0.132</td>\n",
       "      <td>0.121</td>\n",
       "      <td>10</td>\n",
       "      <td>11.760369</td>\n",
       "      <td>2.131961</td>\n",
       "    </tr>\n",
       "    <tr>\n",
       "      <th>2</th>\n",
       "      <td>706.0</td>\n",
       "      <td>0.131</td>\n",
       "      <td>0.123</td>\n",
       "      <td>8</td>\n",
       "      <td>15.031728</td>\n",
       "      <td>2.305650</td>\n",
       "    </tr>\n",
       "    <tr>\n",
       "      <th>3</th>\n",
       "      <td>706.0</td>\n",
       "      <td>0.128</td>\n",
       "      <td>0.121</td>\n",
       "      <td>6</td>\n",
       "      <td>20.550459</td>\n",
       "      <td>2.584593</td>\n",
       "    </tr>\n",
       "    <tr>\n",
       "      <th>4</th>\n",
       "      <td>706.0</td>\n",
       "      <td>0.007</td>\n",
       "      <td>0.002</td>\n",
       "      <td>5</td>\n",
       "      <td>1.235398</td>\n",
       "      <td>2.804058</td>\n",
       "    </tr>\n",
       "  </tbody>\n",
       "</table>\n",
       "</div>"
      ],
      "text/plain": [
       "0  Observations     R2  AdjustedR2   m      F_nab      F_cr\n",
       "1         706.0  0.132       0.121  10  11.760369  2.131961\n",
       "2         706.0  0.131       0.123   8  15.031728  2.305650\n",
       "3         706.0  0.128       0.121   6  20.550459  2.584593\n",
       "4         706.0  0.007       0.002   5   1.235398  2.804058"
      ]
     },
     "execution_count": 7,
     "metadata": {},
     "output_type": "execute_result"
    }
   ],
   "source": [
    "alpha = 0.05\n",
    "df['F_cr'] = stats.f.ppf(1-alpha/2,df['m']-1,df['Observations'] - df['m'])\n",
    "df"
   ]
  },
  {
   "cell_type": "code",
   "execution_count": 8,
   "id": "93370824",
   "metadata": {},
   "outputs": [
    {
     "data": {
      "text/html": [
       "<div>\n",
       "<style scoped>\n",
       "    .dataframe tbody tr th:only-of-type {\n",
       "        vertical-align: middle;\n",
       "    }\n",
       "\n",
       "    .dataframe tbody tr th {\n",
       "        vertical-align: top;\n",
       "    }\n",
       "\n",
       "    .dataframe thead th {\n",
       "        text-align: right;\n",
       "    }\n",
       "</style>\n",
       "<table border=\"1\" class=\"dataframe\">\n",
       "  <thead>\n",
       "    <tr style=\"text-align: right;\">\n",
       "      <th></th>\n",
       "      <th>Observations</th>\n",
       "      <th>R2</th>\n",
       "      <th>AdjustedR2</th>\n",
       "      <th>m</th>\n",
       "      <th>F_nab</th>\n",
       "      <th>F_cr</th>\n",
       "      <th>znachimost</th>\n",
       "    </tr>\n",
       "  </thead>\n",
       "  <tbody>\n",
       "    <tr>\n",
       "      <th>1</th>\n",
       "      <td>706.0</td>\n",
       "      <td>0.132</td>\n",
       "      <td>0.121</td>\n",
       "      <td>10</td>\n",
       "      <td>11.760369</td>\n",
       "      <td>2.131961</td>\n",
       "      <td>znachima</td>\n",
       "    </tr>\n",
       "    <tr>\n",
       "      <th>2</th>\n",
       "      <td>706.0</td>\n",
       "      <td>0.131</td>\n",
       "      <td>0.123</td>\n",
       "      <td>8</td>\n",
       "      <td>15.031728</td>\n",
       "      <td>2.305650</td>\n",
       "      <td>znachima</td>\n",
       "    </tr>\n",
       "    <tr>\n",
       "      <th>3</th>\n",
       "      <td>706.0</td>\n",
       "      <td>0.128</td>\n",
       "      <td>0.121</td>\n",
       "      <td>6</td>\n",
       "      <td>20.550459</td>\n",
       "      <td>2.584593</td>\n",
       "      <td>znachima</td>\n",
       "    </tr>\n",
       "    <tr>\n",
       "      <th>4</th>\n",
       "      <td>706.0</td>\n",
       "      <td>0.007</td>\n",
       "      <td>0.002</td>\n",
       "      <td>5</td>\n",
       "      <td>1.235398</td>\n",
       "      <td>2.804058</td>\n",
       "      <td>neznachimo</td>\n",
       "    </tr>\n",
       "  </tbody>\n",
       "</table>\n",
       "</div>"
      ],
      "text/plain": [
       "0  Observations     R2  AdjustedR2   m      F_nab      F_cr  znachimost\n",
       "1         706.0  0.132       0.121  10  11.760369  2.131961    znachima\n",
       "2         706.0  0.131       0.123   8  15.031728  2.305650    znachima\n",
       "3         706.0  0.128       0.121   6  20.550459  2.584593    znachima\n",
       "4         706.0  0.007       0.002   5   1.235398  2.804058  neznachimo"
      ]
     },
     "execution_count": 8,
     "metadata": {},
     "output_type": "execute_result"
    }
   ],
   "source": [
    "df['znachimost'] = df.apply(lambda x : 'znachima' if x['F_nab'] > x['F_cr'] else 'neznachimo', axis = 1)\n",
    "df"
   ]
  },
  {
   "cell_type": "markdown",
   "id": "1d7c12fc",
   "metadata": {},
   "source": [
    "## 2.1 Значимость отдельных коэффициентов регрессии. t-тест."
   ]
  },
  {
   "cell_type": "code",
   "execution_count": 9,
   "id": "c33692ac",
   "metadata": {},
   "outputs": [],
   "source": [
    "# Когда копируем строку необходимо строку данных преобразовать таким образом, чтобы все подстроки содержали одинаковое количество\n",
    "# элементов, разделённых пустыми строками. Для этого добавим один элемент в самое начало 1й подстроки ('coeff')  и удалим лишние пробелы\n",
    "date_string = '''coeff Estimate  Std.Error t_value  Pr(>|t|)    \n",
    "(Intercept) 3587.178292  220.238404 16.2877 <2.2e-16***\n",
    "totwrk        -0.149121    0.026286 -5.6730 2.055e-08***\n",
    "age           -6.258663   11.191863 -0.5592  0.576194    \n",
    "I(age^2)       0.106517    0.133767  0.7963  0.426135    \n",
    "male         161.890143   82.177481  1.9700  0.049232*  \n",
    "south        112.143584   40.717344  2.7542  0.006037** \n",
    "totwrk:male   -0.034694    0.036279 -0.9563  0.339238   '''"
   ]
  },
  {
   "cell_type": "code",
   "execution_count": 10,
   "id": "5edd9681",
   "metadata": {},
   "outputs": [
    {
     "data": {
      "text/html": [
       "<div>\n",
       "<style scoped>\n",
       "    .dataframe tbody tr th:only-of-type {\n",
       "        vertical-align: middle;\n",
       "    }\n",
       "\n",
       "    .dataframe tbody tr th {\n",
       "        vertical-align: top;\n",
       "    }\n",
       "\n",
       "    .dataframe thead th {\n",
       "        text-align: right;\n",
       "    }\n",
       "</style>\n",
       "<table border=\"1\" class=\"dataframe\">\n",
       "  <thead>\n",
       "    <tr style=\"text-align: right;\">\n",
       "      <th></th>\n",
       "      <th>coeff</th>\n",
       "      <th>Estimate</th>\n",
       "      <th>Std.Error</th>\n",
       "      <th>t_value</th>\n",
       "      <th>Pr(&gt;|t|)</th>\n",
       "    </tr>\n",
       "  </thead>\n",
       "  <tbody>\n",
       "    <tr>\n",
       "      <th>0</th>\n",
       "      <td>(Intercept)</td>\n",
       "      <td>3587.178292</td>\n",
       "      <td>220.238404</td>\n",
       "      <td>16.2877</td>\n",
       "      <td>&lt;2.2e-16***</td>\n",
       "    </tr>\n",
       "    <tr>\n",
       "      <th>1</th>\n",
       "      <td>totwrk</td>\n",
       "      <td>-0.149121</td>\n",
       "      <td>0.026286</td>\n",
       "      <td>-5.6730</td>\n",
       "      <td>2.055e-08***</td>\n",
       "    </tr>\n",
       "    <tr>\n",
       "      <th>2</th>\n",
       "      <td>age</td>\n",
       "      <td>-6.258663</td>\n",
       "      <td>11.191863</td>\n",
       "      <td>-0.5592</td>\n",
       "      <td>0.576194</td>\n",
       "    </tr>\n",
       "    <tr>\n",
       "      <th>3</th>\n",
       "      <td>I(age^2)</td>\n",
       "      <td>0.106517</td>\n",
       "      <td>0.133767</td>\n",
       "      <td>0.7963</td>\n",
       "      <td>0.426135</td>\n",
       "    </tr>\n",
       "    <tr>\n",
       "      <th>4</th>\n",
       "      <td>male</td>\n",
       "      <td>161.890143</td>\n",
       "      <td>82.177481</td>\n",
       "      <td>1.9700</td>\n",
       "      <td>0.049232*</td>\n",
       "    </tr>\n",
       "    <tr>\n",
       "      <th>5</th>\n",
       "      <td>south</td>\n",
       "      <td>112.143584</td>\n",
       "      <td>40.717344</td>\n",
       "      <td>2.7542</td>\n",
       "      <td>0.006037**</td>\n",
       "    </tr>\n",
       "    <tr>\n",
       "      <th>6</th>\n",
       "      <td>totwrk:male</td>\n",
       "      <td>-0.034694</td>\n",
       "      <td>0.036279</td>\n",
       "      <td>-0.9563</td>\n",
       "      <td>0.339238</td>\n",
       "    </tr>\n",
       "  </tbody>\n",
       "</table>\n",
       "</div>"
      ],
      "text/plain": [
       "         coeff     Estimate   Std.Error  t_value      Pr(>|t|)\n",
       "0  (Intercept)  3587.178292  220.238404  16.2877   <2.2e-16***\n",
       "1       totwrk    -0.149121    0.026286  -5.6730  2.055e-08***\n",
       "2          age    -6.258663   11.191863  -0.5592      0.576194\n",
       "3     I(age^2)     0.106517    0.133767   0.7963      0.426135\n",
       "4         male   161.890143   82.177481   1.9700     0.049232*\n",
       "5        south   112.143584   40.717344   2.7542    0.006037**\n",
       "6  totwrk:male    -0.034694    0.036279  -0.9563      0.339238"
      ]
     },
     "execution_count": 10,
     "metadata": {},
     "output_type": "execute_result"
    }
   ],
   "source": [
    "# date_string.replace('*+','')\n",
    "df=pd.read_csv(io.StringIO(date_string), sep='\\s+')\n",
    "df"
   ]
  },
  {
   "cell_type": "code",
   "execution_count": 11,
   "id": "e8937b0c",
   "metadata": {},
   "outputs": [
    {
     "data": {
      "text/plain": [
       "1.9633298120697251"
      ]
     },
     "execution_count": 11,
     "metadata": {},
     "output_type": "execute_result"
    }
   ],
   "source": [
    "# критическое значение t_critical находим из таблицы Стьюдента\n",
    "t_critical = stats.t.ppf(1-0.05/2,706)\n",
    "t_critical"
   ]
  },
  {
   "cell_type": "code",
   "execution_count": 12,
   "id": "28948cb2",
   "metadata": {},
   "outputs": [
    {
     "data": {
      "text/html": [
       "<div>\n",
       "<style scoped>\n",
       "    .dataframe tbody tr th:only-of-type {\n",
       "        vertical-align: middle;\n",
       "    }\n",
       "\n",
       "    .dataframe tbody tr th {\n",
       "        vertical-align: top;\n",
       "    }\n",
       "\n",
       "    .dataframe thead th {\n",
       "        text-align: right;\n",
       "    }\n",
       "</style>\n",
       "<table border=\"1\" class=\"dataframe\">\n",
       "  <thead>\n",
       "    <tr style=\"text-align: right;\">\n",
       "      <th></th>\n",
       "      <th>coeff</th>\n",
       "      <th>Estimate</th>\n",
       "      <th>Std.Error</th>\n",
       "      <th>t_value</th>\n",
       "      <th>Pr(&gt;|t|)</th>\n",
       "      <th>Значимость</th>\n",
       "    </tr>\n",
       "  </thead>\n",
       "  <tbody>\n",
       "    <tr>\n",
       "      <th>0</th>\n",
       "      <td>(Intercept)</td>\n",
       "      <td>3587.178292</td>\n",
       "      <td>220.238404</td>\n",
       "      <td>16.2877</td>\n",
       "      <td>&lt;2.2e-16***</td>\n",
       "      <td>Значим</td>\n",
       "    </tr>\n",
       "    <tr>\n",
       "      <th>1</th>\n",
       "      <td>totwrk</td>\n",
       "      <td>-0.149121</td>\n",
       "      <td>0.026286</td>\n",
       "      <td>-5.6730</td>\n",
       "      <td>2.055e-08***</td>\n",
       "      <td>Значим</td>\n",
       "    </tr>\n",
       "    <tr>\n",
       "      <th>2</th>\n",
       "      <td>age</td>\n",
       "      <td>-6.258663</td>\n",
       "      <td>11.191863</td>\n",
       "      <td>-0.5592</td>\n",
       "      <td>0.576194</td>\n",
       "      <td>Не значим</td>\n",
       "    </tr>\n",
       "    <tr>\n",
       "      <th>3</th>\n",
       "      <td>I(age^2)</td>\n",
       "      <td>0.106517</td>\n",
       "      <td>0.133767</td>\n",
       "      <td>0.7963</td>\n",
       "      <td>0.426135</td>\n",
       "      <td>Не значим</td>\n",
       "    </tr>\n",
       "    <tr>\n",
       "      <th>4</th>\n",
       "      <td>male</td>\n",
       "      <td>161.890143</td>\n",
       "      <td>82.177481</td>\n",
       "      <td>1.9700</td>\n",
       "      <td>0.049232*</td>\n",
       "      <td>Значим</td>\n",
       "    </tr>\n",
       "    <tr>\n",
       "      <th>5</th>\n",
       "      <td>south</td>\n",
       "      <td>112.143584</td>\n",
       "      <td>40.717344</td>\n",
       "      <td>2.7542</td>\n",
       "      <td>0.006037**</td>\n",
       "      <td>Значим</td>\n",
       "    </tr>\n",
       "    <tr>\n",
       "      <th>6</th>\n",
       "      <td>totwrk:male</td>\n",
       "      <td>-0.034694</td>\n",
       "      <td>0.036279</td>\n",
       "      <td>-0.9563</td>\n",
       "      <td>0.339238</td>\n",
       "      <td>Не значим</td>\n",
       "    </tr>\n",
       "  </tbody>\n",
       "</table>\n",
       "</div>"
      ],
      "text/plain": [
       "         coeff     Estimate   Std.Error  t_value      Pr(>|t|) Значимость\n",
       "0  (Intercept)  3587.178292  220.238404  16.2877   <2.2e-16***     Значим\n",
       "1       totwrk    -0.149121    0.026286  -5.6730  2.055e-08***     Значим\n",
       "2          age    -6.258663   11.191863  -0.5592      0.576194  Не значим\n",
       "3     I(age^2)     0.106517    0.133767   0.7963      0.426135  Не значим\n",
       "4         male   161.890143   82.177481   1.9700     0.049232*     Значим\n",
       "5        south   112.143584   40.717344   2.7542    0.006037**     Значим\n",
       "6  totwrk:male    -0.034694    0.036279  -0.9563      0.339238  Не значим"
      ]
     },
     "execution_count": 12,
     "metadata": {},
     "output_type": "execute_result"
    }
   ],
   "source": [
    "df['Значимость'] = df.apply(lambda x : 'Значим' if np.abs(x['Estimate']/x['Std.Error'])>t_critical else 'Не значим' , axis = 1)\n",
    "df"
   ]
  },
  {
   "cell_type": "markdown",
   "id": "75215f06",
   "metadata": {},
   "source": [
    "#### Потестируем совместную значимость `smsa, yngkid, marr, union` \n",
    "\n",
    "$$H_0:\\beta_{smsa}=\\beta_{yngkid}=\\beta_{marr}=\\beta_{union}=0$$\n",
    "$$\n",
    "H_1: \\beta_{smsa}^2+\\beta_{yngkid}^2+\\beta_{marr}^2 + \\beta_{union}^2 \\neq 0\n",
    "$$\n",
    "\n",
    "\n"
   ]
  },
  {
   "cell_type": "code",
   "execution_count": 13,
   "id": "3d9e455c",
   "metadata": {},
   "outputs": [],
   "source": [
    "# скачиваем датасет sleep75 \n",
    "dt = pd.read_csv('https://raw.githubusercontent.com/artamonoff/Econometrica/master/python-notebooks/data-csv/sleep75.csv')\n",
    "# формируем неограниченную регрессионную модель\n",
    "unrestricted_model = smf.ols(data = dt, formula = 'sleep~totwrk+age+I(age^2) + male+south + smsa+yngkid+marr+union' ).fit()\n",
    "# формируем ограниченную регрессионную модель\n",
    "restricted_model = smf.ols(data = dt, formula = 'sleep~totwrk+age+I(age^2) + male+south' ).fit()"
   ]
  },
  {
   "cell_type": "code",
   "execution_count": 14,
   "id": "e084bd10",
   "metadata": {},
   "outputs": [
    {
     "name": "stdout",
     "output_type": "stream",
     "text": [
      "<F test: F=0.9095954104097346, p=0.4577812422153851, df_denom=696, df_num=4>\n"
     ]
    }
   ],
   "source": [
    "# F-statistic and Prob (F-statistic) \n",
    "print(unrestricted_model.f_test(\"smsa = yngkid = marr = union = 0\"))"
   ]
  },
  {
   "cell_type": "markdown",
   "id": "1aa68187",
   "metadata": {},
   "source": [
    "$$\n",
    "F = \\frac{R^2_{ur}- R^2_r}{1-R^2_{ur}}\\cdot\\frac{n-m}{q}\n",
    "$$\n",
    "q -- число коэффициентов, значимость которых проверяется \n",
    "\n",
    "n -- количество измерений\n",
    "\n",
    "m -- число коэффициентов регрессии без ограничений\n",
    "\n",
    "$(n-m)$ -- количество степеней свободы\n",
    "$$\n",
    "F = \\frac{R^2_{ur}- R^2_r}{1-R^2_{ur}}\\cdot\\frac{DF}{q}\n",
    "$$"
   ]
  },
  {
   "cell_type": "code",
   "execution_count": 15,
   "id": "88c47c35",
   "metadata": {},
   "outputs": [],
   "source": [
    "n=len(dt) # количество измерений равно длине датафрейма\n",
    "DF=unrestricted_model.df_resid # количество степеней свободы\n",
    "q =4 # количество регрессоров, значимость которых проверяется\n",
    "R2_ur=unrestricted_model.rsquared # коэффициент детерминации \"длинной регрессии\"\n",
    "R2_r = restricted_model.rsquared # коэффициент детерминации \"короткой регресси\""
   ]
  },
  {
   "cell_type": "code",
   "execution_count": 16,
   "id": "87e304cf",
   "metadata": {},
   "outputs": [
    {
     "data": {
      "text/plain": [
       "0.9095954104097205"
      ]
     },
     "execution_count": 16,
     "metadata": {},
     "output_type": "execute_result"
    }
   ],
   "source": [
    "F_nabl = ((R2_ur - R2_r)/(1-R2_ur))*DF/q\n",
    "F_nabl"
   ]
  },
  {
   "cell_type": "markdown",
   "id": "5197d2f1",
   "metadata": {},
   "source": [
    "#### Проверка совместной значимости нескольких коэффициентов с помощью регрессионной модели"
   ]
  },
  {
   "cell_type": "code",
   "execution_count": 17,
   "id": "7addf2b5",
   "metadata": {},
   "outputs": [],
   "source": [
    "# F-statistic and Prob (F-statistic) \n",
    "f_test = unrestricted_model.f_test(\"smsa = yngkid = marr = union = 0\")"
   ]
  },
  {
   "cell_type": "code",
   "execution_count": 18,
   "id": "fa097b94",
   "metadata": {},
   "outputs": [
    {
     "data": {
      "text/plain": [
       "0.9095954104097346"
      ]
     },
     "execution_count": 18,
     "metadata": {},
     "output_type": "execute_result"
    }
   ],
   "source": [
    "f_test.fvalue"
   ]
  },
  {
   "cell_type": "markdown",
   "id": "51d166e9",
   "metadata": {},
   "source": [
    "$\n",
    "F_{cr} = F(\\alpha; q, DF)\n",
    "$ -- критическое значение распределения Фишера $F_{q,DF}$ при уровне значимости $\\alpha$."
   ]
  },
  {
   "cell_type": "code",
   "execution_count": 19,
   "id": "2ed39167",
   "metadata": {},
   "outputs": [],
   "source": [
    "alpha = 0.5\n",
    "F_cr = stats.f.ppf(1-0.05,q,DF)"
   ]
  },
  {
   "cell_type": "code",
   "execution_count": 20,
   "id": "c3adce24",
   "metadata": {},
   "outputs": [
    {
     "name": "stdout",
     "output_type": "stream",
     "text": [
      "Не отвергаем H0, коэффициенты совместно незначимы\n"
     ]
    }
   ],
   "source": [
    "if (F_nabl > F_cr ):\n",
    "    print('Отвергаем H0, коэффициенты совместно значимы')\n",
    "else:\n",
    "    print('Не отвергаем H0, коэффициенты совместно незначимы')"
   ]
  },
  {
   "cell_type": "markdown",
   "id": "9cff6d5b",
   "metadata": {},
   "source": [
    "### 4 F-тест: структурные изменения/сдвиги\n",
    "#### 4.1 sleep equation #1"
   ]
  },
  {
   "cell_type": "code",
   "execution_count": 21,
   "id": "cfa38302",
   "metadata": {},
   "outputs": [],
   "source": [
    "# Определим датафрейм\n",
    "sleep_df = pd.read_csv('https://raw.githubusercontent.com/artamonoff/Econometrica/master/python-notebooks/data-csv/sleep75.csv')\n",
    "sleep_df['sleep60'] = sleep_df['sleep']/60 # создадим столбец часов времени\n",
    "# Отфильтруем датафрейм по гендерному признаку\n",
    "sleep_male = sleep_df[sleep_df['male']==1] # Датафрейм для мужчин\n",
    "sleep_female = sleep_df[sleep_df['male']==0] # Датафрейм дла женщин"
   ]
  },
  {
   "cell_type": "code",
   "execution_count": 22,
   "id": "efb19a98",
   "metadata": {},
   "outputs": [
    {
     "data": {
      "text/plain": [
       "<seaborn.axisgrid.FacetGrid at 0x7fe6981d4cd0>"
      ]
     },
     "execution_count": 22,
     "metadata": {},
     "output_type": "execute_result"
    },
    {
     "data": {
      "image/png": "[encoded data removed]",
      "text/plain": [
       "<Figure size 558.875x500 with 1 Axes>"
      ]
     },
     "metadata": {},
     "output_type": "display_data"
    }
   ],
   "source": [
    "sns.lmplot(data=sleep_df, y='sleep', x='totwrk',hue='male')"
   ]
  },
  {
   "cell_type": "code",
   "execution_count": 23,
   "id": "bbfee32c",
   "metadata": {},
   "outputs": [
    {
     "ename": "NameError",
     "evalue": "name 'slp' is not defined",
     "output_type": "error",
     "traceback": [
      "\u001b[0;31m---------------------------------------------------------------------------\u001b[0m",
      "\u001b[0;31mNameError\u001b[0m                                 Traceback (most recent call last)",
      "Cell \u001b[0;32mIn[23], line 1\u001b[0m\n\u001b[0;32m----> 1\u001b[0m \u001b[43mslp\u001b[49m\u001b[38;5;241m.\u001b[39msummary()\n",
      "\u001b[0;31mNameError\u001b[0m: name 'slp' is not defined"
     ]
    }
   ],
   "source": [
    "slp.summary()"
   ]
  },
  {
   "cell_type": "code",
   "execution_count": null,
   "id": "65c865cc",
   "metadata": {},
   "outputs": [],
   "source": [
    "slp = smf.ols(data= sleep_df, formula='sleep60~totwrk+age+I(age**2)+south +smsa +marr').fit()\n",
    "slp_ml = smf.ols(data= sleep_male, formula='sleep60~totwrk+age+I(age**2)+south +smsa +marr').fit()\n",
    "slp_fml = smf.ols(data= sleep_female, formula='sleep60~totwrk+age+I(age**2)+south +smsa +marr').fit()"
   ]
  },
  {
   "cell_type": "markdown",
   "id": "e4c0260d",
   "metadata": {},
   "source": [
    "$$\n",
    "H_0: \\beta_{marr} = \\gamma_{marr}; \\; \\sigma_1^2 = \\sigma_2^2\n",
    "$$"
   ]
  },
  {
   "cell_type": "markdown",
   "id": "fc442372",
   "metadata": {},
   "source": [
    "$$\n",
    "F_{obl} = \\frac{RSS_- (RSS_1 + RSS_2)}{RSS_1 + RSS_2} \\cdot \\frac{n_1 + n_2 - 2m}{m}\n",
    "$$\n",
    "$$\n",
    "F \\sim_{H_0} F_{m, n_1 + n_2-2m}\n",
    "$$"
   ]
  },
  {
   "cell_type": "code",
   "execution_count": null,
   "id": "f0f72f88",
   "metadata": {},
   "outputs": [],
   "source": [
    "print(f'RSS:{slp.ssr.round(2)}, RSS_1:{slp_ml.ssr.round(2)},RSS_2:{slp_ml.ssr.round(2)} ')"
   ]
  },
  {
   "cell_type": "code",
   "execution_count": null,
   "id": "d9f0faf8",
   "metadata": {},
   "outputs": [],
   "source": [
    "F_obl =( slp.ssr - (slp_ml.ssr + slp_fml.ssr) )/((slp_ml.ssr + slp_fml.ssr)) * (len( sleep_female ) + len( sleep_male ) - 14) / 7\n",
    "F_obl"
   ]
  },
  {
   "cell_type": "code",
   "execution_count": null,
   "id": "4936470e",
   "metadata": {},
   "outputs": [],
   "source": [
    "alpha = 0.01\n",
    "stats.f.ppf(1-alpha,7,len( sleep_female ) + len( sleep_male ) - 14  )"
   ]
  }
 ],
 "metadata": {
  "kernelspec": {
   "display_name": "Python 3 (ipykernel)",
   "language": "python",
   "name": "python3"
  },
  "language_info": {
   "codemirror_mode": {
    "name": "ipython",
    "version": 3
   },
   "file_extension": ".py",
   "mimetype": "text/x-python",
   "name": "python",
   "nbconvert_exporter": "python",
   "pygments_lexer": "ipython3",
   "version": "3.8.8"
  }
 },
 "nbformat": 4,
 "nbformat_minor": 5
}
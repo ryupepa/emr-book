{
 "cells": [
  {
   "cell_type": "markdown",
   "id": "15f0946c",
   "metadata": {},
   "source": [
    "# Прогнозирование"
   ]
  },
  {
   "cell_type": "code",
   "execution_count": 1,
   "id": "bc2d61a7",
   "metadata": {},
   "outputs": [],
   "source": [
    "import numpy as np\n",
    "import re"
   ]
  },
  {
   "cell_type": "code",
   "execution_count": 2,
   "id": "4db0d557",
   "metadata": {},
   "outputs": [],
   "source": [
    "date_string = '''totwrk                       -0.169***         \n",
    "                              (0.018)          \n",
    "                                               \n",
    "age                           2.689*           \n",
    "                              (1.469)          \n",
    "                                               \n",
    "south                        101.568**         \n",
    "                             (41.837)          \n",
    "                                               \n",
    "male                         87.669**          \n",
    "                             (35.104)          \n",
    "                                               \n",
    "smsa                         -54.748*          \n",
    "                             (33.123)          \n",
    "                                               \n",
    "yngkid                        -13.962          \n",
    "                             (50.341)          \n",
    "                                               \n",
    "marr                          31.211           \n",
    "                             (42.233)          \n",
    "                                               \n",
    "Constant                    3450.913***        \n",
    "                             (80.726)'''"
   ]
  },
  {
   "cell_type": "code",
   "execution_count": 3,
   "id": "e18bd18f",
   "metadata": {},
   "outputs": [
    {
     "data": {
      "text/plain": [
       "['-0.169',\n",
       " '0.018',\n",
       " '2.689',\n",
       " '1.469',\n",
       " '101.568',\n",
       " '41.837',\n",
       " '87.669',\n",
       " '35.104',\n",
       " '-54.748',\n",
       " '33.123',\n",
       " '-13.962',\n",
       " '50.341',\n",
       " '31.211',\n",
       " '42.233',\n",
       " '3450.913',\n",
       " '80.726']"
      ]
     },
     "execution_count": 3,
     "metadata": {},
     "output_type": "execute_result"
    }
   ],
   "source": [
    "# Выделим числа из строки с помощью регулярных выражений\n",
    "#(необходимо выделить подстроку, удовлетворяющая определенному шаблону символов)\n",
    "digital_date = re.findall(r'([-+]?\\d+.\\d+)',date_string)\n",
    "digital_date"
   ]
  },
  {
   "cell_type": "code",
   "execution_count": 4,
   "id": "abde63ff",
   "metadata": {},
   "outputs": [
    {
     "data": {
      "text/plain": [
       "array([['-0.169', '0.018'],\n",
       "       ['2.689', '1.469'],\n",
       "       ['101.568', '41.837'],\n",
       "       ['87.669', '35.104'],\n",
       "       ['-54.748', '33.123'],\n",
       "       ['-13.962', '50.341'],\n",
       "       ['31.211', '42.233'],\n",
       "       ['3450.913', '80.726']], dtype='<U8')"
      ]
     },
     "execution_count": 4,
     "metadata": {},
     "output_type": "execute_result"
    }
   ],
   "source": [
    "# Из одномерного списка сделаем двумерный список типа размерности (8,2)\n",
    "# 8 --- количество коэффицентов, включая константу\n",
    "# 2 --- потому что строка содержит оценку коэффицента и его ошибку\n",
    "# так как исходны список содержит оценки коэффицентов и их ошибки\n",
    "beta = np.reshape(digital_date,(8,2))\n",
    "beta"
   ]
  },
  {
   "cell_type": "code",
   "execution_count": 5,
   "id": "51ea66ef",
   "metadata": {},
   "outputs": [],
   "source": [
    "# ppl_string --- переменная, которая содержит изначальную строку данных\n",
    "ppl_string = '''totwrk age south male smsa yngkid marr\n",
    "1  2150  37.1    0    1    1     0     1  \n",
    "2  1950  28.1    1    1    0     1     0  \n",
    "3  2240  26.1    0    0    1     0     0 '''"
   ]
  },
  {
   "cell_type": "code",
   "execution_count": 6,
   "id": "2e91cd40",
   "metadata": {},
   "outputs": [],
   "source": [
    "# Создадим список из чисел, содержащихся в строке. \n",
    "# ppl_list -- список, который будет состоять из подстрок, каждая из которых удовлетворяет определенному шаблону символов\n",
    "ppl_lst = re.findall(r'([-+]?\\d+.\\d+|[-+]?\\d+)',ppl_string)"
   ]
  },
  {
   "cell_type": "code",
   "execution_count": 7,
   "id": "f2cb64eb",
   "metadata": {},
   "outputs": [
    {
     "data": {
      "text/plain": [
       "array([['1', '2150', '37.1', '0', '1', '1', '0', '1'],\n",
       "       ['2', '1950', '28.1', '1', '1', '0', '1', '0'],\n",
       "       ['3', '2240', '26.1', '0', '0', '1', '0', '0']], dtype='<U4')"
      ]
     },
     "execution_count": 7,
     "metadata": {},
     "output_type": "execute_result"
    }
   ],
   "source": [
    "X = np.reshape(ppl_lst,(3,8))\n",
    "X"
   ]
  },
  {
   "cell_type": "code",
   "execution_count": 8,
   "id": "699b37ab",
   "metadata": {},
   "outputs": [],
   "source": [
    "# Преобразуем список в двумерный массив: 3 строки, 8 столбцов.\n",
    "# 3 -- количество измерений, для которых нам необходим найти предсказанное значение\n",
    "# 8 столбцов в исходной таблице, включая столбец с нумерацией строк\n"
   ]
  },
  {
   "cell_type": "code",
   "execution_count": 9,
   "id": "68e85c61",
   "metadata": {},
   "outputs": [
    {
     "data": {
      "text/plain": [
       "array([['2150', '37.1', '0', '1', '1', '0', '1'],\n",
       "       ['1950', '28.1', '1', '1', '0', '1', '0'],\n",
       "       ['2240', '26.1', '0', '0', '1', '0', '0']], dtype='<U4')"
      ]
     },
     "execution_count": 9,
     "metadata": {},
     "output_type": "execute_result"
    }
   ],
   "source": [
    "# Необходимо удалить первый столбец, так как это нумерация строк\n",
    "X = np.delete(X,0,1)\n",
    "X"
   ]
  },
  {
   "cell_type": "code",
   "execution_count": 10,
   "id": "bcd7cc34",
   "metadata": {},
   "outputs": [
    {
     "data": {
      "text/plain": [
       "array([['2150', '37.1', '0', '1', '1', '0', '1', '1.0'],\n",
       "       ['1950', '28.1', '1', '1', '0', '1', '0', '1.0'],\n",
       "       ['2240', '26.1', '0', '0', '1', '0', '0', '1.0']], dtype='<U32')"
      ]
     },
     "execution_count": 10,
     "metadata": {},
     "output_type": "execute_result"
    }
   ],
   "source": [
    "# Теперь необходимо добавить столбец из единиц для того,\n",
    "#  чтобы совпадало количество столбцов в матрице с количестом элементов \n",
    "X = np.c_[X,np.ones(3)]\n",
    "X"
   ]
  },
  {
   "cell_type": "code",
   "execution_count": 11,
   "id": "362ccd85",
   "metadata": {},
   "outputs": [
    {
     "data": {
      "text/plain": [
       "(3, 8)"
      ]
     },
     "execution_count": 11,
     "metadata": {},
     "output_type": "execute_result"
    }
   ],
   "source": [
    "X.shape"
   ]
  },
  {
   "cell_type": "code",
   "execution_count": 12,
   "id": "661d619d",
   "metadata": {},
   "outputs": [
    {
     "data": {
      "text/plain": [
       "(8, 2)"
      ]
     },
     "execution_count": 12,
     "metadata": {},
     "output_type": "execute_result"
    }
   ],
   "source": [
    "beta.shape"
   ]
  },
  {
   "cell_type": "code",
   "execution_count": 13,
   "id": "71f43afc",
   "metadata": {},
   "outputs": [
    {
     "data": {
      "text/plain": [
       "array([[2.15e+03, 3.71e+01, 0.00e+00, 1.00e+00, 1.00e+00, 0.00e+00,\n",
       "        1.00e+00, 1.00e+00],\n",
       "       [1.95e+03, 2.81e+01, 1.00e+00, 1.00e+00, 0.00e+00, 1.00e+00,\n",
       "        0.00e+00, 1.00e+00],\n",
       "       [2.24e+03, 2.61e+01, 0.00e+00, 0.00e+00, 1.00e+00, 0.00e+00,\n",
       "        0.00e+00, 1.00e+00]])"
      ]
     },
     "execution_count": 13,
     "metadata": {},
     "output_type": "execute_result"
    }
   ],
   "source": [
    "#Неообходимо преобразование типов данных\n",
    "beta = beta.astype(float)\n",
    "X = X.astype(float).round(3)\n",
    "X"
   ]
  },
  {
   "cell_type": "markdown",
   "id": "2ac332a9",
   "metadata": {},
   "source": [
    "## Предсказанные значение (fitted) вычисляюся с помощью формулы\n",
    "# $$\\hat{y} = \\textbf{X}\\beta_{OLS}$$\n",
    "\n",
    "$$\n",
    "\\begin{equation*}\n",
    "\\hat{y} = \\left(\n",
    "\\begin{array}{c}\n",
    "y_1 \\\\\n",
    "y_2\\\\\n",
    "y_3\n",
    "\\end{array}\n",
    "\\right), \\;\\;\\;\\;\\;\n",
    "\\textbf{X}\\ = \\left(\n",
    "\\begin{array}{cccccccc}\n",
    "totwrk_1 & age_1 & south_1 & male_1 & smsa_1 & yndkid_1 & marr_1 & 1\\\\\n",
    "totwrk_2 & age_2 & south_2 & male_2 & smsa_2 & yndkid_2 & marr_2 & 1\\\\\n",
    "totwrk_3 & age_3 & south_3 & male_3 & smsa_3 & yndkid_3 & marr_3 & 1\\\\\n",
    "\\end{array}\n",
    "\\right),  \\;\\;\\;\\;\\;\n",
    "\\beta_{OLS}=\\left(\n",
    "\\begin{array}{c}\n",
    "\\beta_{totwrk} \\\\\n",
    "\\beta_{age} \\\\\n",
    "\\beta_{south} \\\\\n",
    "\\beta_{male} \\\\\n",
    "\\beta_{smsa} \\\\\n",
    "\\beta_{ynkid} \\\\\n",
    "\\beta_{marr} \\\\\n",
    "Constant\n",
    "\\end{array}\n",
    "\\right)\n",
    "\\end{equation*}\n",
    "$$"
   ]
  },
  {
   "cell_type": "code",
   "execution_count": 14,
   "id": "dcf5fb5e",
   "metadata": {},
   "outputs": [
    {
     "name": "stdout",
     "output_type": "stream",
     "text": [
      "[[3251.4569  284.3859]\n",
      " [3372.1989  284.3869]\n",
      " [3087.7879  192.5099]]\n"
     ]
    }
   ],
   "source": [
    "# результатом произведения двух матриц будут два столбца\n",
    "# 1й равен произведению значений измерений и коэффициентов\n",
    "# 2й равен произведению значений измерений и ошибок коэффициентов\n",
    "print(np.matmul(X,beta))"
   ]
  },
  {
   "cell_type": "code",
   "execution_count": null,
   "id": "8f9967dc",
   "metadata": {},
   "outputs": [],
   "source": []
  }
 ],
 "metadata": {
  "kernelspec": {
   "display_name": "Python 3 (ipykernel)",
   "language": "python",
   "name": "python3"
  },
  "language_info": {
   "codemirror_mode": {
    "name": "ipython",
    "version": 3
   },
   "file_extension": ".py",
   "mimetype": "text/x-python",
   "name": "python",
   "nbconvert_exporter": "python",
   "pygments_lexer": "ipython3",
   "version": "3.8.8"
  }
 },
 "nbformat": 4,
 "nbformat_minor": 5
}
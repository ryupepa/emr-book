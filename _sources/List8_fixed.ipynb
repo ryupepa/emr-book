{
 "cells": [
  {
   "cell_type": "markdown",
   "id": "8647a8f5",
   "metadata": {},
   "source": [
    "## Листок 8: Мультиколлинеарность\n",
    "\n",
    "### Ссылка на листки, ноутбуки и данные\n",
    "\n",
    "https://github.com/artamonoff/Econometrica"
   ]
  },
  {
   "cell_type": "markdown",
   "id": "07499067",
   "metadata": {},
   "source": [
    "## Ссылки на документацию\n",
    "\n",
    "https://www.statsmodels.org/stable/generated/statsmodels.regression.linear_model.OLSResults.html#statsmodels.regression.linear_model.OLSResults\n",
    "\n",
    "https://tedboy.github.io/statsmodels_doc/index.html"
   ]
  },
  {
   "cell_type": "code",
   "execution_count": null,
   "id": "bdc98fdf",
   "metadata": {},
   "outputs": [],
   "source": [
    "import pandas as pd\n",
    "import numpy as np\n",
    "import statsmodels.api as sm \n",
    "import statsmodels.formula.api as smf\n",
    "from statsmodels.iolib.summary2 import summary_params # вывод результатов тестирования\n",
    "from statsmodels.iolib.summary2 import summary_col # вывод результатов тестирования\n",
    "from statsmodels.stats.outliers_influence import variance_inflation_factor # VIF\n",
    "import scipy\n",
    "import matplotlib.pyplot as plt\n",
    "import seaborn as sns"
   ]
  },
  {
   "cell_type": "markdown",
   "id": "f0348510",
   "metadata": {},
   "source": [
    "## 1 sleep equation #1"
   ]
  },
  {
   "cell_type": "markdown",
   "id": "0d3339d8",
   "metadata": {},
   "source": [
    "## 1.1 VIFs\n",
    "\n",
    "Для набора данных `sleep75` рассмотрим линейную регрессию\n",
    "\n",
    "**sleep на totwrk/100, totwrk^2/10000, age, smsa, male, south**.\n",
    "\n",
    "Какие регрессии нужно рассматривать для вычисления показателей VIF для коэффициентов\n",
    "**totwrk, totwrk^2, male**? \n",
    "\n",
    "Ответ\n",
    "\n",
    "- **totwrk/100 на totwrk^2/10000, age, smsa, male, south**\n",
    "- **totwrk^2/10000 на totwrk/100, age, smsa, male, south**\n",
    "- **male на totwrk/100, totwrk^2/10000, age, smsa, south**"
   ]
  },
  {
   "cell_type": "code",
   "execution_count": null,
   "id": "68b9b1d8",
   "metadata": {},
   "outputs": [],
   "source": [
    "data_sleep = pd.read_csv('https://raw.githubusercontent.com/artamonoff/Econometrica/master/python-notebooks/data-csv/sleep75.csv')\n",
    "data_sleep.shape"
   ]
  },
  {
   "cell_type": "code",
   "execution_count": null,
   "id": "8ea5d314",
   "metadata": {},
   "outputs": [],
   "source": [
    "# Модель sleep на totwrk/100, totwrk^2/10000, age, smsa, male, south\n",
    "Sleep_eq11 = smf.ols(formula = 'sleep~I(totwrk/100)+I(totwrk**2/10000)+age+smsa+male+south', data = data_sleep).fit()"
   ]
  },
  {
   "cell_type": "code",
   "execution_count": null,
   "id": "7a96e05a",
   "metadata": {},
   "outputs": [],
   "source": [
    "# Модель 1:  totwrk/100 на totwrk^2/10000, age, smsa, male, south\n",
    "# Создаем спецификацию модели через формулу и подгоняем модель\n",
    "model_11 = smf.ols(formula = 'I(totwrk/100)~I(totwrk**2/10000)+age+smsa+male+south', data = data_sleep).fit()"
   ]
  },
  {
   "cell_type": "code",
   "execution_count": null,
   "id": "ff3e5d75",
   "metadata": {},
   "outputs": [],
   "source": [
    "# Модель 2: totwrk^2/10000 на totwrk/100, age, smsa, male, south\n",
    "# Создаем спецификацию модели через формулу и подгоняем модель\n",
    "model_12 = smf.ols(formula = 'I(totwrk**2/10000)~I(totwrk/100)+age+smsa+male+south', data = data_sleep).fit()"
   ]
  },
  {
   "cell_type": "code",
   "execution_count": null,
   "id": "98fd90d4",
   "metadata": {},
   "outputs": [],
   "source": [
    "# Модель 3: male на totwrk/100, totwrk^2/10000, age, smsa, south\n",
    "# Создаем спецификацию модели через формулу и подгоняем модель\n",
    "model_13 = smf.ols(formula = 'male~I(totwrk/100)+I(totwrk**2/10000)+age+smsa+south', data = data_sleep).fit()"
   ]
  },
  {
   "cell_type": "code",
   "execution_count": null,
   "id": "0c94c147",
   "metadata": {},
   "outputs": [],
   "source": [
    "#Результаты подгонки\n",
    "# info_dict = {'No. Observations': lambda x: '{0:d}'.format(int(x.nobs)), \n",
    "#              'R-squared': lambda x: \"%#8.3f\" % x.rsquared,\n",
    "#              'Adj. R-squared': lambda x: \"%#8.3f\" % x.rsquared_adj,\n",
    "#              'Residual Std. Error': lambda x: \"%#8.3f\" % x.mse_resid**0.5,\n",
    "#              'F-statistic': lambda x: '{:.3f}'.format(x.fvalue), \n",
    "#              'Prob (F-statistic)': lambda x: '{:.3f}'.format(x.f_pvalue)\n",
    "#              }\n",
    "\n",
    "print(summary_col([model_11, model_12, model_13], stars=True, float_format='%.3f'))"
   ]
  },
  {
   "cell_type": "code",
   "execution_count": null,
   "id": "b145743d",
   "metadata": {},
   "outputs": [],
   "source": [
    "# VIF для totwrk/100 c округлением до 2-х десятичных знаков\n",
    "VIF_1 = 1/(1 - model_11.rsquared)\n",
    "VIF_1.round(2)"
   ]
  },
  {
   "cell_type": "code",
   "execution_count": null,
   "id": "f9ede59a",
   "metadata": {},
   "outputs": [],
   "source": [
    "# VIF для totwrk^2/10000 c округлением до 2-х десятичных знаков\n",
    "VIF_2 = 1/(1 - model_12.rsquared)\n",
    "VIF_2.round(2)"
   ]
  },
  {
   "cell_type": "code",
   "execution_count": null,
   "id": "f7a09f69",
   "metadata": {},
   "outputs": [],
   "source": [
    "# VIF для male c округлением до 2-х десятичных знаков\n",
    "VIF_3 = 1/(1 - model_13.rsquared)\n",
    "VIF_3.round(2)"
   ]
  },
  {
   "cell_type": "code",
   "execution_count": null,
   "id": "5b8b5a7f",
   "metadata": {},
   "outputs": [],
   "source": [
    "# names of exog\n",
    "Sleep_eq11.model.exog_names"
   ]
  },
  {
   "cell_type": "code",
   "execution_count": null,
   "id": "d650666f",
   "metadata": {},
   "outputs": [],
   "source": [
    "# VIF для totwrk/100 c округлением до 2-х десятичных знаков\n",
    "VIF_1 = variance_inflation_factor(exog = Sleep_eq11.model.exog, exog_idx = 1)\n",
    "print('VIF for exog', Sleep_eq11.model.exog_names[1], ': ', VIF_1.round(2))"
   ]
  },
  {
   "cell_type": "code",
   "execution_count": null,
   "id": "7c100d6f",
   "metadata": {},
   "outputs": [],
   "source": [
    "# VIF для totwrk^2/10000 c округлением до 2-х десятичных знаков\n",
    "VIF_2 = variance_inflation_factor(exog = Sleep_eq11.model.exog, exog_idx = 2)\n",
    "print('VIF for exog', Sleep_eq11.model.exog_names[2], ': ', VIF_2.round(2))"
   ]
  },
  {
   "cell_type": "code",
   "execution_count": null,
   "id": "6713d7f2",
   "metadata": {},
   "outputs": [],
   "source": [
    "# VIF для male c округлением до 2-х десятичных знаков\n",
    "VIF_3 = variance_inflation_factor(exog = Sleep_eq11.model.exog, exog_idx = 5)\n",
    "print('VIF for exog', Sleep_eq11.model.exog_names[5], ': ', VIF_3.round(2))"
   ]
  },
  {
   "cell_type": "markdown",
   "id": "c464d038",
   "metadata": {},
   "source": [
    "## 1.2 Последствия"
   ]
  },
  {
   "cell_type": "markdown",
   "id": "d932c89f",
   "metadata": {},
   "source": [
    "Для набора данных `sleep75` рассмотрим линейную регрессию\n",
    "**sleep на totwrk/100, totwrk^2/10000, age, smsa, male**.\n",
    "\n",
    "Результаты оценивания:"
   ]
  },
  {
   "cell_type": "code",
   "execution_count": null,
   "id": "88d29594",
   "metadata": {},
   "outputs": [],
   "source": [
    "# Модель sleep на totwrk/100, totwrk^2/10000, age, smsa, male\n",
    "Sleep_eq12 = smf.ols(formula = 'sleep~I(totwrk/100)+I(totwrk**2/10000)+age+smsa+male', data = data_sleep).fit()"
   ]
  },
  {
   "cell_type": "code",
   "execution_count": null,
   "id": "783f3405",
   "metadata": {},
   "outputs": [],
   "source": [
    "info_dict = {'No. Observations': lambda x: '{0:d}'.format(int(x.nobs)), \n",
    "             'Residual Std. Error': lambda x: \"%#8.3f\" % x.mse_resid**0.5,\n",
    "             'F-statistic': lambda x: '{:.3f}'.format(x.fvalue), \n",
    "             'Prob (F-statistic)': lambda x: '{:.3f}'.format(x.f_pvalue)\n",
    "             }\n",
    "print(summary_col(Sleep_eq12, float_format='%.3f', stars=True, info_dict = info_dict))"
   ]
  },
  {
   "cell_type": "code",
   "execution_count": null,
   "id": "4a4875fc",
   "metadata": {},
   "outputs": [],
   "source": [
    "df = summary_params(Sleep_eq12, alpha=0.05)\n",
    "df['significance'] = df.apply(lambda x: 'Значим' if x['P>|t|']<0.05 else 'Незначим', axis=1)\n",
    "df"
   ]
  },
  {
   "cell_type": "markdown",
   "id": "8390521d",
   "metadata": {},
   "source": [
    "### На уровне значимости 5% значимы коэффициенты: \"age\"  \"smsa\" \"male\""
   ]
  },
  {
   "cell_type": "markdown",
   "id": "f59bd447",
   "metadata": {},
   "source": [
    "## Тестируется значимость влияния занятости, т.е. гипотеза \n",
    "\n",
    "## $H_0:\\beta_{totwrk/100}=\\beta_{totwrk^2/10000}=0$."
   ]
  },
  {
   "cell_type": "code",
   "execution_count": null,
   "id": "06cad866",
   "metadata": {},
   "outputs": [],
   "source": [
    "# тестовая F_stat\n",
    "Sleep_eq12.f_test('I(totwrk / 100) = I(totwrk ** 2 / 10000)=0')"
   ]
  },
  {
   "cell_type": "code",
   "execution_count": null,
   "id": "83802381",
   "metadata": {},
   "outputs": [],
   "source": [
    "# критическое значение F_crit\n",
    "alpha=0.05\n",
    "scipy.stats.f.ppf(1-alpha, 2, 700).round(2)"
   ]
  },
  {
   "cell_type": "markdown",
   "id": "f2f39f72",
   "metadata": {},
   "source": [
    "### Так как F_stat > F_crit, то гипотеза отвергается. Значит коэффициенты совместно значимы."
   ]
  },
  {
   "cell_type": "code",
   "execution_count": null,
   "id": "44670b7d",
   "metadata": {},
   "outputs": [],
   "source": [
    "#VIFs\n",
    "VIFS = pd.DataFrame({'VIF': [variance_inflation_factor(Sleep_eq12.model.exog, i) for i in range(int(Sleep_eq12.df_model+1))]}, index=Sleep_eq12.model.exog_names)\n",
    "VIFS.drop(index='Intercept', inplace=True)\n",
    "VIFS"
   ]
  },
  {
   "cell_type": "code",
   "execution_count": null,
   "id": "82910e33",
   "metadata": {},
   "outputs": [],
   "source": [
    "# Матрица корреляций\n",
    "df_sleep = data_sleep[['male', 'age', 'smsa']].copy()\n",
    "df_sleep['I(totwrk / 100)'] = data_sleep['totwrk']/100\n",
    "df_sleep['I(totwrk ** 2 / 10000)'] = (data_sleep['totwrk']**2)/10000\n",
    "corr_matrix = df_sleep.corr().round(3)\n",
    "corr_matrix"
   ]
  },
  {
   "cell_type": "code",
   "execution_count": null,
   "id": "0b62ae95",
   "metadata": {},
   "outputs": [],
   "source": [
    "# Визуализация корреляций\n",
    "sm.graphics.plot_corr(corr_matrix, xnames=df_sleep.columns, normcolor=True, cmap='coolwarm')\n",
    "plt.show()"
   ]
  },
  {
   "cell_type": "markdown",
   "id": "54ad2bd0",
   "metadata": {},
   "source": [
    "Документация: https://tedboy.github.io/statsmodels_doc/generated/statsmodels.graphics.api.plot_corr.html?highlight=plot_corr#statsmodels.graphics.api.plot_corr"
   ]
  },
  {
   "cell_type": "code",
   "execution_count": null,
   "id": "e18e2ea7",
   "metadata": {},
   "outputs": [],
   "source": [
    "# Визуализация корреляций\n",
    "sns.heatmap(corr_matrix, annot=True, fmt='.3g', vmin=-1, vmax=1, center=0, cmap='coolwarm', \n",
    "            square=True, linewidths=1, linecolor='white')\n",
    "# add customized title to heatmap\n",
    "plt.title('Correlation Matrix', loc='center', color='red', size=14, weight='bold')"
   ]
  },
  {
   "cell_type": "markdown",
   "id": "9dc3275c",
   "metadata": {},
   "source": [
    "Документация: https://seaborn.pydata.org/generated/seaborn.heatmap.html"
   ]
  },
  {
   "cell_type": "markdown",
   "id": "31a3b07b",
   "metadata": {},
   "source": [
    "### \"Продвинутая\" визуализация корреляций"
   ]
  },
  {
   "cell_type": "code",
   "execution_count": null,
   "id": "16b53156",
   "metadata": {},
   "outputs": [],
   "source": [
    "corr_matrix = df_sleep.corr().round(3)\n",
    "# нижнетреугольная матрица корреляций\n",
    "mask = np.triu(corr_matrix)\n",
    "sns.heatmap(corr_matrix, annot=True, fmt='.3g', vmin=-1, vmax=1, center=0, cmap='coolwarm', square=True, linewidths=1, linecolor='white', mask=mask)\n",
    "# add customized title to heatmap\n",
    "plt.title('Correlation Matrix', loc='center', color='red', size=14, weight='bold')"
   ]
  },
  {
   "cell_type": "code",
   "execution_count": null,
   "id": "0be3d57a",
   "metadata": {},
   "outputs": [],
   "source": [
    "corr_matrix = df_sleep.corr().round(3)\n",
    "# верхнетреугольная матрица корреляций\n",
    "mask = np.tril(corr_matrix)\n",
    "sns.heatmap(corr_matrix, annot=True, fmt='.3g', vmin=-1, vmax=1, center=0, cmap='coolwarm', square=True, linewidths=1, linecolor='white', mask=mask)\n",
    "# add customized title to heatmap\n",
    "plt.title('Correlation Matrix', loc='center', color='red', size=14, weight='bold')"
   ]
  },
  {
   "cell_type": "code",
   "execution_count": null,
   "id": "da73272d",
   "metadata": {},
   "outputs": [],
   "source": [
    "# Fill diagonal and upper half with NaNs\n",
    "mask = np.zeros_like(corr_matrix, dtype=bool)\n",
    "mask[np.triu_indices_from(mask)] = True\n",
    "corr_matrix[mask] = np.nan\n",
    "(corr_matrix\n",
    " .style\n",
    " .set_properties(**{'text-align': 'center'})\n",
    " .background_gradient(cmap='coolwarm', axis=None, vmin=-1, vmax=1)\n",
    " .highlight_null(color='#f1f1f1')  # Color NaNs grey\n",
    " .format(precision=2, na_rep=\" \")\n",
    " .set_caption('Correlation Matrix'))"
   ]
  },
  {
   "cell_type": "markdown",
   "id": "15f6833f",
   "metadata": {},
   "source": [
    "Документация: \n",
    "\n",
    "https://pandas.pydata.org/pandas-docs/stable/user_guide/style.html\n",
    "\n",
    "https://pandas.pydata.org/pandas-docs/stable/reference/api/pandas.io.formats.style.Styler.html"
   ]
  },
  {
   "cell_type": "code",
   "execution_count": null,
   "id": "2228351c",
   "metadata": {},
   "outputs": [],
   "source": []
  }
 ],
 "metadata": {
  "kernelspec": {
   "display_name": "Python 3 (ipykernel)",
   "language": "python",
   "name": "python3"
  },
  "language_info": {
   "codemirror_mode": {
    "name": "ipython",
    "version": 3
   },
   "file_extension": ".py",
   "mimetype": "text/x-python",
   "name": "python",
   "nbconvert_exporter": "python",
   "pygments_lexer": "ipython3",
   "version": "3.8.8"
  }
 },
 "nbformat": 4,
 "nbformat_minor": 5
}

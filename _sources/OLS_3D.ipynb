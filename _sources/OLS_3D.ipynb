{
 "cells": [
  {
   "cell_type": "markdown",
   "id": "4c77a23b",
   "metadata": {},
   "source": [
    "# OLS: 3D case"
   ]
  },
  {
   "cell_type": "code",
   "execution_count": null,
   "id": "a69f6afc",
   "metadata": {},
   "outputs": [],
   "source": [
    "import numpy as np\n",
    "import pandas as pd\n",
    "import matplotlib.pyplot as plt\n",
    "import statsmodels.formula.api as smf\n",
    "# conda install -c conda-forge ipympl\n",
    "# pip install ipympl\n",
    "%matplotlib widget"
   ]
  },
  {
   "cell_type": "markdown",
   "id": "f7e45436",
   "metadata": {},
   "source": [
    "## Sleep equation"
   ]
  },
  {
   "cell_type": "code",
   "execution_count": null,
   "id": "d465b507",
   "metadata": {},
   "outputs": [],
   "source": [
    "df_sleep = pd.read_csv('sleep75.csv')"
   ]
  },
  {
   "cell_type": "code",
   "execution_count": null,
   "id": "ea3056e2",
   "metadata": {},
   "outputs": [],
   "source": [
    "#%matplotlib widget\n",
    "fig = plt.figure()\n",
    "ax = fig.add_subplot(projection='3d')\n",
    "\n",
    "ax.scatter(xs='totwrk', ys='age', zs='sleep', data=df_sleep)\n",
    "\n",
    "plt.show()"
   ]
  },
  {
   "cell_type": "code",
   "execution_count": null,
   "id": "950a5162",
   "metadata": {},
   "outputs": [],
   "source": [
    "# Подгоним плоскость\n",
    "fitted_plane = smf.ols(formula='sleep~totwrk+age', data=df_sleep).fit()\n",
    "beta0, beta1, beta2 = fitted_plane.params\n",
    "beta0, beta1, beta2"
   ]
  },
  {
   "cell_type": "markdown",
   "id": "1c830ab5",
   "metadata": {},
   "source": [
    "Визуализируем плоскость и данные"
   ]
  },
  {
   "cell_type": "code",
   "execution_count": null,
   "id": "266609da",
   "metadata": {},
   "outputs": [],
   "source": [
    "# Make data\n",
    "X = np.arange(start=df_sleep['totwrk'].min(), stop=df_sleep['totwrk'].max(), step=1)\n",
    "Y = np.arange(start=df_sleep['age'].min(), stop=df_sleep['age'].max(), step=1)\n",
    "X, Y = np.meshgrid(X, Y)\n",
    "Z = beta0+beta1*X+beta2*Y\n",
    "\n",
    "# Plot the fitted plane and the scatter plot\n",
    "fig, ax = plt.subplots(subplot_kw={\"projection\": \"3d\"})\n",
    "ax.plot_surface(X, Y, Z, color='r', alpha=0.2)\n",
    "ax.scatter(xs='totwrk', ys='age', zs='sleep', data=df_sleep)\n",
    "\n",
    "plt.show()"
   ]
  },
  {
   "cell_type": "markdown",
   "id": "9517fccf",
   "metadata": {},
   "source": [
    "## Output equation (in levels)"
   ]
  },
  {
   "cell_type": "code",
   "execution_count": null,
   "id": "865ee9c9",
   "metadata": {},
   "outputs": [],
   "source": [
    "df_output = pd.read_csv('Labour.csv')"
   ]
  },
  {
   "cell_type": "code",
   "execution_count": null,
   "id": "80ae47d4",
   "metadata": {},
   "outputs": [],
   "source": [
    "fig = plt.figure()\n",
    "ax = fig.add_subplot(projection='3d')\n",
    "\n",
    "ax.scatter(xs='capital', ys='labour', zs='output', data=df_output)\n",
    "\n",
    "plt.show()"
   ]
  },
  {
   "cell_type": "code",
   "execution_count": null,
   "id": "782a5899",
   "metadata": {},
   "outputs": [],
   "source": [
    "# Подгоним плоскость\n",
    "fitted_plane = smf.ols(formula='output~capital+labour', data=df_output).fit()\n",
    "beta0, beta1, beta2 = fitted_plane.params\n",
    "beta0, beta1, beta2"
   ]
  },
  {
   "cell_type": "code",
   "execution_count": null,
   "id": "cbe1e297",
   "metadata": {},
   "outputs": [],
   "source": [
    "# Визуализируем данные и плоскость\n",
    "# Make data\n",
    "X = np.arange(start=df_output['capital'].min(), stop=df_output['capital'].max(), step=1)\n",
    "Y = np.arange(start=df_output['labour'].min(), stop=df_output['labour'].max(), step=1)\n",
    "X, Y = np.meshgrid(X, Y)\n",
    "Z = beta0+beta1*X+beta2*Y\n",
    "\n",
    "# Plot the fitted plane and the scatter plot\n",
    "fig, ax = plt.subplots(subplot_kw={\"projection\": \"3d\"})\n",
    "ax.plot_surface(X, Y, Z, color='r', alpha=0.2)\n",
    "ax.scatter(xs='capital', ys='labour', zs='output', data=df_output)\n",
    "\n",
    "plt.show()"
   ]
  },
  {
   "cell_type": "markdown",
   "id": "18ee8fb2",
   "metadata": {},
   "source": [
    "## Output equation (in log)"
   ]
  },
  {
   "cell_type": "code",
   "execution_count": null,
   "id": "a6b20418",
   "metadata": {},
   "outputs": [],
   "source": [
    "df_output = pd.read_csv('Labour.csv')"
   ]
  },
  {
   "cell_type": "code",
   "execution_count": null,
   "id": "7f0ec092",
   "metadata": {},
   "outputs": [],
   "source": [
    "fig = plt.figure()\n",
    "ax = fig.add_subplot(projection='3d')\n",
    "\n",
    "ax.scatter(xs=np.log(df_output['capital']), ys=np.log(df_output['labour']), zs=np.log(df_output['output']) )\n",
    "\n",
    "plt.show()"
   ]
  },
  {
   "cell_type": "code",
   "execution_count": null,
   "id": "e0fed5c7",
   "metadata": {},
   "outputs": [],
   "source": [
    "# Подгоним плоскость\n",
    "fitted_plane = smf.ols(formula='np.log(output)~np.log(capital)+np.log(labour)', data=df_output).fit()\n",
    "beta0, beta1, beta2 = fitted_plane.params\n",
    "beta0, beta1, beta2"
   ]
  },
  {
   "cell_type": "code",
   "execution_count": null,
   "id": "76c430d9",
   "metadata": {},
   "outputs": [],
   "source": [
    "# Визуализируем данные и плоскость\n",
    "# Make data\n",
    "X = np.arange(start=np.log(df_output['capital']).min(), stop=np.log(df_output['capital']).max(), step=1)\n",
    "Y = np.arange(start=np.log(df_output['labour']).min(), stop=np.log(df_output['labour']).max(), step=1)\n",
    "X, Y = np.meshgrid(X, Y)\n",
    "Z = beta0+beta1*X+beta2*Y\n",
    "\n",
    "# Plot the fitted plane and the scatter plot\n",
    "fig, ax = plt.subplots(subplot_kw={\"projection\": \"3d\"})\n",
    "ax.plot_surface(X, Y, Z, color='r', alpha=0.2)\n",
    "ax.scatter(xs=np.log(df_output['capital']), ys=np.log(df_output['labour']), zs=np.log(df_output['output']) )\n",
    "\n",
    "plt.show()"
   ]
  },
  {
   "cell_type": "code",
   "execution_count": null,
   "id": "1b2d14e5",
   "metadata": {},
   "outputs": [],
   "source": []
  }
 ],
 "metadata": {
  "kernelspec": {
   "display_name": "Python 3 (ipykernel)",
   "language": "python",
   "name": "python3"
  },
  "language_info": {
   "codemirror_mode": {
    "name": "ipython",
    "version": 3
   },
   "file_extension": ".py",
   "mimetype": "text/x-python",
   "name": "python",
   "nbconvert_exporter": "python",
   "pygments_lexer": "ipython3",
   "version": "3.8.8"
  },
  "vscode": {
   "interpreter": {
    "hash": "aee8b7b246df8f9039afb4144a1f6fd8d2ca17a180786b69acc140d282b71a49"
   }
  }
 },
 "nbformat": 4,
 "nbformat_minor": 5
}

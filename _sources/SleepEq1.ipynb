{
 "cells": [
  {
   "cell_type": "markdown",
   "id": "2f93047d",
   "metadata": {},
   "source": [
    "# Sleep Equation\n",
    "\n",
    "На датасете `sleep75` рассмотрим региессию **sleep на totwrk, male**\n",
    "\n",
    "Спецификация: $sleep=\\beta_0+\\beta_1totwrk+\\beta_2male+u$"
   ]
  },
  {
   "cell_type": "code",
   "execution_count": null,
   "id": "26858fa7",
   "metadata": {},
   "outputs": [],
   "source": [
    "import numpy as np # linear algebra \n",
    "import pandas as pd # data processing, CSV file I/O (e.g. pd.read_csv)\n",
    "# stats models: regression fitting via formulas\n",
    "import statsmodels.formula.api as smf\n",
    "# stats models: regression fitting via matrices of regression design\n",
    "import statsmodels.api as sm"
   ]
  },
  {
   "cell_type": "code",
   "execution_count": null,
   "id": "cad28da3",
   "metadata": {},
   "outputs": [],
   "source": [
    "df = pd.read_csv('https://raw.githubusercontent.com/artamonoff/Econometrica/master/python-notebooks/data-csv/sleep75.csv')"
   ]
  },
  {
   "cell_type": "markdown",
   "id": "2f77e322",
   "metadata": {},
   "source": [
    "## Первый способ оценивания: \n",
    "через спецификацию"
   ]
  },
  {
   "cell_type": "code",
   "execution_count": null,
   "id": "c43e651e",
   "metadata": {},
   "outputs": [],
   "source": [
    "# специфицируем модель через формулу\n",
    "sleep_eq1 = smf.ols(formula='sleep~totwrk+male', data=df).fit()\n",
    "# Коэфициенты модели с округление\n",
    "sleep_eq1.params.round(2)"
   ]
  },
  {
   "cell_type": "code",
   "execution_count": null,
   "id": "c4d775a0",
   "metadata": {},
   "outputs": [],
   "source": [
    "# Альтеративно\n",
    "sleep_eq2 = sm.OLS.from_formula(formula='sleep~totwrk+male', data=df).fit()\n",
    "# Коэфициенты модели с округление\n",
    "sleep_eq2.params.round(2)"
   ]
  },
  {
   "cell_type": "markdown",
   "id": "b1407ea2",
   "metadata": {},
   "source": [
    "## Второй способ оценивания: \n",
    "через матрицы ргерессионного дизайна $\\mathbf{y}, \\mathbf{X}$"
   ]
  },
  {
   "cell_type": "code",
   "execution_count": null,
   "id": "f77af104",
   "metadata": {},
   "outputs": [],
   "source": [
    "# Зададим матрицы регрессионного дизайна\n",
    "y = df['sleep'] # зависимая переменная\n",
    "X = sm.add_constant(df[['totwrk', 'male']]) # регрессоры с добавленным столбом единиц\n",
    "X.head(n=7)"
   ]
  },
  {
   "cell_type": "code",
   "execution_count": null,
   "id": "c84c85d7",
   "metadata": {},
   "outputs": [],
   "source": [
    "# Погоним модель\n",
    "sleep_eq3 = sm.OLS(y, X).fit()\n",
    "# Коэфициенты модели с округление\n",
    "sleep_eq3.params.round(2)"
   ]
  }
 ],
 "metadata": {
  "kernelspec": {
   "display_name": "Python 3 (ipykernel)",
   "language": "python",
   "name": "python3"
  },
  "language_info": {
   "codemirror_mode": {
    "name": "ipython",
    "version": 3
   },
   "file_extension": ".py",
   "mimetype": "text/x-python",
   "name": "python",
   "nbconvert_exporter": "python",
   "pygments_lexer": "ipython3",
   "version": "3.8.8"
  }
 },
 "nbformat": 4,
 "nbformat_minor": 5
}

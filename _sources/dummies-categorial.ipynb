{
 "cells": [
  {
   "cell_type": "markdown",
   "id": "a0299963",
   "metadata": {},
   "source": [
    "# Бинарные переменные: категориальные переменные\n",
    "(небинарные качественные признаки)"
   ]
  },
  {
   "cell_type": "code",
   "execution_count": null,
   "id": "e2d349c6",
   "metadata": {},
   "outputs": [],
   "source": [
    "import pandas as pd\n",
    "import numpy as np\n",
    "import statsmodels.formula.api as smf\n",
    "import statsmodels.api as sm\n",
    "from statsmodels.iolib.summary2 import summary_col # вывод подгонки\n",
    "from scipy.stats import f # F-распределение\n",
    "import seaborn as sns"
   ]
  },
  {
   "cell_type": "code",
   "execution_count": null,
   "id": "07b6853b",
   "metadata": {
    "scrolled": true
   },
   "outputs": [],
   "source": [
    "diamond_df = pd.read_csv('https://raw.githubusercontent.com/artamonoff/Econometrica/master/python-notebooks/data-csv/Diamond.csv')\n",
    "diamond_df.head()"
   ]
  },
  {
   "cell_type": "markdown",
   "id": "49bb71d9",
   "metadata": {},
   "source": [
    "Описательные статистики по категрриальным переменным"
   ]
  },
  {
   "cell_type": "code",
   "execution_count": null,
   "id": "c2fa96fd",
   "metadata": {},
   "outputs": [],
   "source": [
    "diamond_df.value_counts(subset='colour')"
   ]
  },
  {
   "cell_type": "code",
   "execution_count": null,
   "id": "91e8620a",
   "metadata": {},
   "outputs": [],
   "source": [
    "diamond_df.value_counts(subset='certification')"
   ]
  },
  {
   "cell_type": "markdown",
   "id": "ffaaaaea",
   "metadata": {},
   "source": [
    "## Price equation\n",
    "Для датасета `Diamond` рассмотрим регрессию **log(price) на carat, carat^2, colour, certification**.\n",
    "\n",
    "Результаты подгонки"
   ]
  },
  {
   "cell_type": "code",
   "execution_count": null,
   "id": "2a64a90c",
   "metadata": {},
   "outputs": [],
   "source": [
    "mod = smf.ols(formula='np.log(price)~carat+I(carat**2)+C(colour)+C(certification)', data=diamond_df).fit()\n",
    "mod.summary(slim=True)"
   ]
  },
  {
   "cell_type": "markdown",
   "id": "9bfe396e",
   "metadata": {},
   "source": [
    "Значимость влияния `colour`"
   ]
  },
  {
   "cell_type": "code",
   "execution_count": null,
   "id": "096ada4a",
   "metadata": {},
   "outputs": [],
   "source": [
    "mod.f_test('C(colour)[T.E]=C(colour)[T.F]=C(colour)[T.G]=C(colour)[T.H]=C(colour)[T.I]=0')"
   ]
  },
  {
   "cell_type": "markdown",
   "id": "aadb7d76",
   "metadata": {},
   "source": [
    "## Некоторые графики"
   ]
  },
  {
   "cell_type": "code",
   "execution_count": null,
   "id": "36ca1b24",
   "metadata": {},
   "outputs": [],
   "source": [
    "sns.countplot(data=diamond_df, x='colour')"
   ]
  },
  {
   "cell_type": "code",
   "execution_count": null,
   "id": "a6ba38cf",
   "metadata": {},
   "outputs": [],
   "source": [
    "sns.countplot(data=diamond_df, x='certification')"
   ]
  },
  {
   "cell_type": "code",
   "execution_count": null,
   "id": "6f5cbdf7",
   "metadata": {},
   "outputs": [],
   "source": [
    "sns.scatterplot(data=diamond_df, x='carat', y='price', style='certification', hue='colour')"
   ]
  },
  {
   "cell_type": "code",
   "execution_count": null,
   "id": "16f6739c",
   "metadata": {},
   "outputs": [],
   "source": [
    "sns.scatterplot(x=diamond_df['carat'], y=np.log(diamond_df['price']), style=diamond_df['certification'],\n",
    "               hue=diamond_df['colour'])"
   ]
  },
  {
   "cell_type": "code",
   "execution_count": null,
   "id": "fe0b5798",
   "metadata": {},
   "outputs": [],
   "source": []
  }
 ],
 "metadata": {
  "kernelspec": {
   "display_name": "Python 3 (ipykernel)",
   "language": "python",
   "name": "python3"
  },
  "language_info": {
   "codemirror_mode": {
    "name": "ipython",
    "version": 3
   },
   "file_extension": ".py",
   "mimetype": "text/x-python",
   "name": "python",
   "nbconvert_exporter": "python",
   "pygments_lexer": "ipython3",
   "version": "3.8.8"
  }
 },
 "nbformat": 4,
 "nbformat_minor": 5
}

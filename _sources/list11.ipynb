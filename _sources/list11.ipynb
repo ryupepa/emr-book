{
 "cells": [
  {
   "cell_type": "markdown",
   "id": "5fcce964",
   "metadata": {},
   "source": [
    "# Гетероскедастичность"
   ]
  },
  {
   "cell_type": "code",
   "execution_count": null,
   "id": "e5404b64",
   "metadata": {},
   "outputs": [],
   "source": [
    "import pandas as pd\n",
    "import numpy as np\n",
    "import statsmodels.formula.api as smf\n",
    "import seaborn as sns\n",
    "import matplotlib.pyplot as plt\n",
    "import scipy.stats as stats"
   ]
  },
  {
   "cell_type": "code",
   "execution_count": null,
   "id": "d98329a7",
   "metadata": {},
   "outputs": [],
   "source": [
    "df = pd.read_csv('https://raw.githubusercontent.com/ryupepa/Econometrica/master/python-notebooks/data-csv/sleep75.csv')"
   ]
  },
  {
   "cell_type": "code",
   "execution_count": null,
   "id": "b09c442a",
   "metadata": {},
   "outputs": [],
   "source": [
    "model = smf.ols(data=df, formula='sleep~totwrk+age+I(age**2)+male+smsa+south').fit()"
   ]
  },
  {
   "cell_type": "code",
   "execution_count": null,
   "id": "bd357cda",
   "metadata": {},
   "outputs": [],
   "source": [
    "# Для того, чтобы проверить наличие гетероскедастичности с помощью теста Бройша-Пагана,\n",
    "# необходимо построить вспомогательную регрессию,\n",
    "#зависимой переменной в которой будут квадраты остатков исходной регресси."
   ]
  },
  {
   "cell_type": "markdown",
   "id": "f330311d",
   "metadata": {},
   "source": [
    "$$e_i = y_i - \\hat{y}_i$$\n",
    "$$\n",
    "e_i^2 = \\gamma_0 + \\gamma_1*totwrk+age+\\gamma_2*I(age**2)+\\gamma_3*male+\\gamma_3*smsa+\\gamma_4*south\n",
    "$$"
   ]
  },
  {
   "cell_type": "code",
   "execution_count": null,
   "id": "cfcc3f76",
   "metadata": {},
   "outputs": [],
   "source": [
    "# квадраты остатков добавим в датафрейм, воспользовавшись методом '.resid', возвращающий значения остатков\n",
    "df['res2']=model.resid**2\n",
    "df['res']=model.resid"
   ]
  },
  {
   "cell_type": "code",
   "execution_count": null,
   "id": "a4466c43",
   "metadata": {},
   "outputs": [],
   "source": [
    " sub_model= smf.ols(data=df, formula='res2~totwrk+age+I(age**2)+male+smsa+south').fit()"
   ]
  },
  {
   "cell_type": "markdown",
   "id": "d310485b",
   "metadata": {},
   "source": [
    "## Сформулируем проверямемую гипотезу, о характере зависимости дисперсии ошибок от факторов регресси\n",
    "$$\n",
    "H_0: \\sigma_i^2 \\equiv \\sigma^2=f(\\gamma_0),\n",
    "$$\n",
    "$$\n",
    "H_1:\\sigma_i^2 = f(\\gamma_0 + z_{i1}\\gamma_1 + z_{i2}*\\gamma_2 + \\dots + \\gamma_{ip}\\gamma_p).\n",
    "$$\n",
    "### Другими словами, значимость вспомогательной регресси в целом, т.е.\n",
    "$$\n",
    "H_0: \\gamma_1=\\gamma_2=\\gamma_3=\\gamma_4=\\gamma_5=\\gamma_6=0,\n",
    "$$\n",
    "$$\n",
    "H_1:  \\gamma_1^2+\\gamma_2^2+\\gamma_3^2+\\gamma_4^2+\\gamma_5^2+\\gamma_6^2>0.\n",
    "$$"
   ]
  },
  {
   "cell_type": "markdown",
   "id": "e678785d",
   "metadata": {},
   "source": [
    "### При справедливости нулевой гипотезы статистика $n*R_0^2 $ имеет распределение хи-квадрат:\n",
    "$$\n",
    "nR_0^2 \\approx_{H_0} \\chi^2_p\n",
    "$$"
   ]
  },
  {
   "cell_type": "code",
   "execution_count": null,
   "id": "92a1c8d5",
   "metadata": {},
   "outputs": [],
   "source": [
    "St = np.round(len(df)*sub_model.rsquared,2)\n",
    "St"
   ]
  },
  {
   "cell_type": "code",
   "execution_count": null,
   "id": "744afa3f",
   "metadata": {},
   "outputs": [],
   "source": [
    "Hi2 = stats.chi2.ppf(1-0.05,6)\n",
    "Hi2"
   ]
  },
  {
   "cell_type": "markdown",
   "id": "89ef7a7d",
   "metadata": {},
   "source": [
    "$$\n",
    "nR_0^2 < \\chi_p^2.\n",
    "$$\n",
    "### Нет оснований отвергнуть нулевую гипотезу. Тест указывает на гомоскедастичность."
   ]
  },
  {
   "cell_type": "markdown",
   "id": "74002dde",
   "metadata": {},
   "source": [
    "# 2.1. Output equation"
   ]
  },
  {
   "cell_type": "code",
   "execution_count": null,
   "id": "eb8250b8",
   "metadata": {},
   "outputs": [],
   "source": [
    "df = pd.read_csv('https://raw.githubusercontent.com/artamonoff/Econometrica/master/python-notebooks/data-csv/Labour.csv')\n",
    "df"
   ]
  },
  {
   "cell_type": "markdown",
   "id": "63d7a0fe",
   "metadata": {},
   "source": [
    "### В случае гетерскедостичности ошибок регрессии основной недостаток OLS-оценок коэффициентов регрессии состоит в том, что статистические выводы, основанные на применениеи t- и F-статистик, уже неверны. Уайт предложил использовать устойчивые к гетерскедостичности скорректированные стандартные ошибки коэффициентов, так как t-статисктики, вычисленные обычным образом по скорректированным стандартным ошибкам, имеют нужное распределение Стьюдента. Такие робастные оценки называются $HC-$оценками и строятся они по формуле"
   ]
  },
  {
   "cell_type": "markdown",
   "id": "23e1d761",
   "metadata": {},
   "source": [
    "$\\hat{V} =(X'X)^{-1}X'\\Omega (X'X)^{-1} $, где $\\Omega_{n \\times n} = diag(\\omega_1,\\dots, \\omega_n) $."
   ]
  },
  {
   "cell_type": "markdown",
   "id": "0f7b88ff",
   "metadata": {},
   "source": [
    "|  $HC0$ | $\\omega_i = e_i^2 $   | \n",
    "|---|---|\n",
    "|  $HC1$ | $\\omega_i = \\frac{n}{n-k-1} e_i^2 $   | \n",
    "|  $HC2$ | $\\omega_i = \\frac{e_i}{(1-h_{ii})} $   | \n",
    "|  $HC3$ | $\\omega_i =\\frac{e_i}{(1-h_{ii})^2} $   | \n",
    "|  $HC4$ | $\\omega_i = \\frac{e_i}{(1-h_{ii})^{d_i}} $   | \n",
    "|  $HC4m$ | $\\omega_i =\\frac{e_i}{(1-h_{ii})^{\\delta_i}} $   | \n",
    "|  $HC5$ | $\\omega_i =\\frac{e_i}{(1-h_{ii})^{\\gamma_i^2}} $   | \n",
    "\n",
    "\n",
    "Здесь $h_{ii}-$ диагональный элемент матрицы $H = X(X'X)^{-1}X'$\n",
    "$$\n",
    "d_i = min\\{4, h_{ii}/\\bar{h}\\},\\\\\n",
    "\\delta_i = min\\{1, h_{ii}/\\bar{h}  \\} + min\\{ 1, 5, h_{ii}/\\bar{h} \\},\\\\\n",
    "\\gamma_i = min{h_{ii}/ \\bar{h}, ,max\\{ 4, 0, 7 h_{max}/\\bar{h} \\}}.\n",
    "$$"
   ]
  },
  {
   "cell_type": "markdown",
   "id": "8a1b2e52",
   "metadata": {},
   "source": [
    "### Асимптотически все варианты $HC-$оценок эквивалентны. Различие между ники в точности оценивается при малых выборках."
   ]
  },
  {
   "cell_type": "code",
   "execution_count": null,
   "id": "9cddcffe",
   "metadata": {},
   "outputs": [],
   "source": [
    "# Для того, чтобы с помощью библиотеку statsmodels вычислить оценки, устойчивые к гетерскедостичности, \n",
    "# необходимо в метод .fit() указать соответсвующий аргумент\n",
    "model = smf.ols(data=df, formula='np.log(output)~np.log(capital)+np.log(labour)+I(np.log(capital)**2)+I(np.log(labour)**2)').fit(cov_type='HC3')"
   ]
  },
  {
   "cell_type": "code",
   "execution_count": null,
   "id": "035efd72",
   "metadata": {},
   "outputs": [],
   "source": [
    "# \n",
    "model.summary().tables[1]"
   ]
  },
  {
   "cell_type": "code",
   "execution_count": null,
   "id": "5de4f31d",
   "metadata": {},
   "outputs": [],
   "source": []
  }
 ],
 "metadata": {
  "kernelspec": {
   "display_name": "Python 3 (ipykernel)",
   "language": "python",
   "name": "python3"
  },
  "language_info": {
   "codemirror_mode": {
    "name": "ipython",
    "version": 3
   },
   "file_extension": ".py",
   "mimetype": "text/x-python",
   "name": "python",
   "nbconvert_exporter": "python",
   "pygments_lexer": "ipython3",
   "version": "3.8.8"
  }
 },
 "nbformat": 4,
 "nbformat_minor": 5
}

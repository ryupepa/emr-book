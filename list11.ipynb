{
 "cells": [
  {
   "cell_type": "code",
   "execution_count": 2,
   "id": "e5404b64",
   "metadata": {},
   "outputs": [],
   "source": [
    "import pandas as pd\n",
    "import numpy as np\n",
    "import statsmodels.formula.api as smf\n",
    "import seaborn as sns\n",
    "import matplotlib.pyplot as plt\n",
    "import scipy.stats as stats"
   ]
  },
  {
   "cell_type": "code",
   "execution_count": 2,
   "id": "d98329a7",
   "metadata": {},
   "outputs": [],
   "source": [
    "df = pd.read_csv('https://raw.githubusercontent.com/ryupepa/Econometrica/master/python-notebooks/data-csv/sleep75.csv')"
   ]
  },
  {
   "cell_type": "code",
   "execution_count": 3,
   "id": "b09c442a",
   "metadata": {},
   "outputs": [],
   "source": [
    "model = smf.ols(data=df, formula='sleep~totwrk+age+I(age**2)+male+smsa+south').fit()"
   ]
  },
  {
   "cell_type": "code",
   "execution_count": 4,
   "id": "bd357cda",
   "metadata": {},
   "outputs": [],
   "source": [
    "# Для того, чтобы проверить наличие гетероскедастичности с помощью теста Бройша-Пагана,\n",
    "# необходимо построить вспомогательную регрессию,\n",
    "#зависимой переменной в которой будут квадраты остатков исходной регресси."
   ]
  },
  {
   "attachments": {},
   "cell_type": "markdown",
   "id": "f330311d",
   "metadata": {},
   "source": [
    "$$e_i = y_i - \\hat{y}_i$$\n",
    "$$\n",
    "e_i^2 = \\gamma_0 + \\gamma_1*totwrk+age+\\gamma_2*I(age**2)+\\gamma_3*male+\\gamma_3*smsa+\\gamma_4*south\n",
    "$$"
   ]
  },
  {
   "cell_type": "code",
   "execution_count": 5,
   "id": "cfcc3f76",
   "metadata": {},
   "outputs": [],
   "source": [
    "# квадраты остатков добавим в датафрейм, воспользовавшись методом '.resid', возвращающий значения остатков\n",
    "df['res2']=model.resid**2\n",
    "df['res']=model.resid"
   ]
  },
  {
   "cell_type": "code",
   "execution_count": 6,
   "id": "a4466c43",
   "metadata": {},
   "outputs": [],
   "source": [
    " sub_model= smf.ols(data=df, formula='res2~totwrk+age+I(age**2)+male+smsa+south').fit()"
   ]
  },
  {
   "attachments": {},
   "cell_type": "markdown",
   "id": "d310485b",
   "metadata": {},
   "source": [
    "## Сформулируем проверямемую гипотезу, о характере зависимости дисперсии ошибок от факторов регресси\n",
    "$$\n",
    "H_0: \\sigma_i^2 \\equiv \\sigma^2=f(\\gamma_0),\n",
    "$$\n",
    "$$\n",
    "H_1:\\sigma_i^2 = f(\\gamma_0 + z_{i1}\\gamma_1 + z_{i2}*\\gamma_2 + \\dots + \\gamma_{ip}\\gamma_p).\n",
    "$$\n",
    "### Другими словами, значимость вспомогательной регресси в целом, т.е.\n",
    "$$\n",
    "H_0: \\gamma_1=\\gamma_2=\\gamma_3=\\gamma_4=\\gamma_5=\\gamma_6=0,\n",
    "$$\n",
    "$$\n",
    "H_1:  \\gamma_1^2+\\gamma_2^2+\\gamma_3^2+\\gamma_4^2+\\gamma_5^2+\\gamma_6^2>0.\n",
    "$$"
   ]
  },
  {
   "attachments": {},
   "cell_type": "markdown",
   "id": "e678785d",
   "metadata": {},
   "source": [
    "### При справедливости нулевой гипотезы статистика $n*R_0^2 $ имеет распределение хи-квадрат:\n",
    "$$\n",
    "nR_0^2 \\approx_{H_0} \\chi^2_p\n",
    "$$"
   ]
  },
  {
   "cell_type": "code",
   "execution_count": 7,
   "id": "92a1c8d5",
   "metadata": {},
   "outputs": [
    {
     "data": {
      "text/plain": [
       "8.31"
      ]
     },
     "execution_count": 7,
     "metadata": {},
     "output_type": "execute_result"
    }
   ],
   "source": [
    "St = np.round(len(df)*sub_model.rsquared,2)\n",
    "St"
   ]
  },
  {
   "cell_type": "code",
   "execution_count": 8,
   "id": "744afa3f",
   "metadata": {},
   "outputs": [
    {
     "data": {
      "text/plain": [
       "12.591587243743977"
      ]
     },
     "execution_count": 8,
     "metadata": {},
     "output_type": "execute_result"
    }
   ],
   "source": [
    "Hi2 = stats.chi2.ppf(1-0.05,6)\n",
    "Hi2"
   ]
  },
  {
   "attachments": {},
   "cell_type": "markdown",
   "id": "89ef7a7d",
   "metadata": {},
   "source": [
    "$$\n",
    "nR_0^2 < \\chi_p^2.\n",
    "$$\n",
    "### Нет оснований отвергнуть нулевую гипотезу. Тест указывает на гомоскедастичность."
   ]
  },
  {
   "attachments": {},
   "cell_type": "markdown",
   "id": "74002dde",
   "metadata": {},
   "source": [
    "# 2.1. Output equation"
   ]
  },
  {
   "cell_type": "code",
   "execution_count": 4,
   "id": "eb8250b8",
   "metadata": {},
   "outputs": [
    {
     "data": {
      "text/html": [
       "<div>\n",
       "<style scoped>\n",
       "    .dataframe tbody tr th:only-of-type {\n",
       "        vertical-align: middle;\n",
       "    }\n",
       "\n",
       "    .dataframe tbody tr th {\n",
       "        vertical-align: top;\n",
       "    }\n",
       "\n",
       "    .dataframe thead th {\n",
       "        text-align: right;\n",
       "    }\n",
       "</style>\n",
       "<table border=\"1\" class=\"dataframe\">\n",
       "  <thead>\n",
       "    <tr style=\"text-align: right;\">\n",
       "      <th></th>\n",
       "      <th>capital</th>\n",
       "      <th>labour</th>\n",
       "      <th>output</th>\n",
       "      <th>wage</th>\n",
       "    </tr>\n",
       "  </thead>\n",
       "  <tbody>\n",
       "    <tr>\n",
       "      <th>0</th>\n",
       "      <td>2.606563</td>\n",
       "      <td>184</td>\n",
       "      <td>9.250759</td>\n",
       "      <td>43.080307</td>\n",
       "    </tr>\n",
       "    <tr>\n",
       "      <th>1</th>\n",
       "      <td>1.323237</td>\n",
       "      <td>91</td>\n",
       "      <td>3.664310</td>\n",
       "      <td>27.780016</td>\n",
       "    </tr>\n",
       "    <tr>\n",
       "      <th>2</th>\n",
       "      <td>22.093692</td>\n",
       "      <td>426</td>\n",
       "      <td>28.781516</td>\n",
       "      <td>44.467748</td>\n",
       "    </tr>\n",
       "    <tr>\n",
       "      <th>3</th>\n",
       "      <td>10.737851</td>\n",
       "      <td>72</td>\n",
       "      <td>4.124642</td>\n",
       "      <td>39.734710</td>\n",
       "    </tr>\n",
       "    <tr>\n",
       "      <th>4</th>\n",
       "      <td>1.161365</td>\n",
       "      <td>46</td>\n",
       "      <td>2.890150</td>\n",
       "      <td>34.650709</td>\n",
       "    </tr>\n",
       "    <tr>\n",
       "      <th>...</th>\n",
       "      <td>...</td>\n",
       "      <td>...</td>\n",
       "      <td>...</td>\n",
       "      <td>...</td>\n",
       "    </tr>\n",
       "    <tr>\n",
       "      <th>564</th>\n",
       "      <td>2.625403</td>\n",
       "      <td>20</td>\n",
       "      <td>1.424376</td>\n",
       "      <td>33.477545</td>\n",
       "    </tr>\n",
       "    <tr>\n",
       "      <th>565</th>\n",
       "      <td>1.276386</td>\n",
       "      <td>61</td>\n",
       "      <td>2.109048</td>\n",
       "      <td>26.300732</td>\n",
       "    </tr>\n",
       "    <tr>\n",
       "      <th>566</th>\n",
       "      <td>1.953869</td>\n",
       "      <td>117</td>\n",
       "      <td>6.241870</td>\n",
       "      <td>41.153979</td>\n",
       "    </tr>\n",
       "    <tr>\n",
       "      <th>567</th>\n",
       "      <td>1.318527</td>\n",
       "      <td>46</td>\n",
       "      <td>7.902237</td>\n",
       "      <td>66.720139</td>\n",
       "    </tr>\n",
       "    <tr>\n",
       "      <th>568</th>\n",
       "      <td>2.832391</td>\n",
       "      <td>161</td>\n",
       "      <td>6.804085</td>\n",
       "      <td>36.618435</td>\n",
       "    </tr>\n",
       "  </tbody>\n",
       "</table>\n",
       "<p>569 rows × 4 columns</p>\n",
       "</div>"
      ],
      "text/plain": [
       "       capital  labour     output       wage\n",
       "0     2.606563     184   9.250759  43.080307\n",
       "1     1.323237      91   3.664310  27.780016\n",
       "2    22.093692     426  28.781516  44.467748\n",
       "3    10.737851      72   4.124642  39.734710\n",
       "4     1.161365      46   2.890150  34.650709\n",
       "..         ...     ...        ...        ...\n",
       "564   2.625403      20   1.424376  33.477545\n",
       "565   1.276386      61   2.109048  26.300732\n",
       "566   1.953869     117   6.241870  41.153979\n",
       "567   1.318527      46   7.902237  66.720139\n",
       "568   2.832391     161   6.804085  36.618435\n",
       "\n",
       "[569 rows x 4 columns]"
      ]
     },
     "execution_count": 4,
     "metadata": {},
     "output_type": "execute_result"
    }
   ],
   "source": [
    "df = pd.read_csv('https://raw.githubusercontent.com/artamonoff/Econometrica/master/python-notebooks/data-csv/Labour.csv')\n",
    "df"
   ]
  },
  {
   "attachments": {},
   "cell_type": "markdown",
   "id": "63d7a0fe",
   "metadata": {},
   "source": [
    "### В случае гетерскедостичности ошибок регрессии основной недостаток OLS-оценок коэффициентов регрессии состоит в том, что статистические выводы, основанные на применениеи t- и F-статистик, уже неверны. Уайт предложил использовать устойчивые к гетерскедостичности скорректированные стандартные ошибки коэффициентов, так как t-статисктики, вычисленные обычным образом по скорректированным стандартным ошибкам, имеют нужное распределение Стьюдента. Такие робастные оценки называются $HC-$оценками и строятся они по формуле"
   ]
  },
  {
   "attachments": {},
   "cell_type": "markdown",
   "id": "23e1d761",
   "metadata": {},
   "source": [
    "$\\hat{V} =(X'X)^{-1}X'\\Omega (X'X)^{-1} $, где $\\Omega_{n \\times n} = diag(\\omega_1,\\dots, \\omega_n) $."
   ]
  },
  {
   "attachments": {},
   "cell_type": "markdown",
   "id": "0f7b88ff",
   "metadata": {},
   "source": [
    "|  $HC0$ | $\\omega_i = e_i^2 $   | \n",
    "|---|---|\n",
    "|  $HC1$ | $\\omega_i = \\frac{n}{n-k-1} e_i^2 $   | \n",
    "|  $HC2$ | $\\omega_i = \\frac{e_i}{(1-h_{ii})} $   | \n",
    "|  $HC3$ | $\\omega_i =\\frac{e_i}{(1-h_{ii})^2} $   | \n",
    "|  $HC4$ | $\\omega_i = \\frac{e_i}{(1-h_{ii})^{d_i}} $   | \n",
    "|  $HC4m$ | $\\omega_i =\\frac{e_i}{(1-h_{ii})^{\\delta_i}} $   | \n",
    "|  $HC5$ | $\\omega_i =\\frac{e_i}{(1-h_{ii})^{\\gamma_i^2}} $   | \n",
    "\n",
    "\n",
    "Здесь $h_{ii}-$ диагональный элемент матрицы $H = X(X'X)^{-1}X'$\n",
    "$$\n",
    "d_i = min\\{4, h_{ii}/\\bar{h}\\},\\\\\n",
    "\\delta_i = min\\{1, h_{ii}/\\bar{h}  \\} + min\\{ 1, 5, h_{ii}/\\bar{h} \\},\\\\\n",
    "\\gamma_i = min{h_{ii}/ \\bar{h}, ,max\\{ 4, 0, 7 h_{max}/\\bar{h} \\}}.\n",
    "$$"
   ]
  },
  {
   "attachments": {},
   "cell_type": "markdown",
   "id": "8a1b2e52",
   "metadata": {},
   "source": [
    "### Асимптотически все варианты $HC-$оценок эквивалентны. Различие между ники в точности оценивается при малых выборках."
   ]
  },
  {
   "cell_type": "code",
   "execution_count": 12,
   "id": "9cddcffe",
   "metadata": {},
   "outputs": [],
   "source": [
    "# Для того, чтобы с помощью библиотеку statsmodels вычислить оценки, устойчивые к гетерскедостичности, \n",
    "# необходимо в метод .fit() указать соответсвующий аргумент\n",
    "model = smf.ols(data=df, formula='np.log(output)~np.log(capital)+np.log(labour)+I(np.log(capital)**2)+I(np.log(labour)**2)').fit(cov_type='HC3')"
   ]
  },
  {
   "cell_type": "code",
   "execution_count": 11,
   "id": "035efd72",
   "metadata": {},
   "outputs": [
    {
     "data": {
      "text/html": [
       "<table class=\"simpletable\">\n",
       "<tr>\n",
       "             <td></td>                <th>coef</th>     <th>std err</th>      <th>z</th>      <th>P>|z|</th>  <th>[0.025</th>    <th>0.975]</th>  \n",
       "</tr>\n",
       "<tr>\n",
       "  <th>Intercept</th>               <td>   -1.3039</td> <td>    0.493</td> <td>   -2.643</td> <td> 0.008</td> <td>   -2.271</td> <td>   -0.337</td>\n",
       "</tr>\n",
       "<tr>\n",
       "  <th>np.log(capital)</th>         <td>    0.1831</td> <td>    0.029</td> <td>    6.215</td> <td> 0.000</td> <td>    0.125</td> <td>    0.241</td>\n",
       "</tr>\n",
       "<tr>\n",
       "  <th>np.log(labour)</th>          <td>    0.5153</td> <td>    0.206</td> <td>    2.497</td> <td> 0.013</td> <td>    0.111</td> <td>    0.920</td>\n",
       "</tr>\n",
       "<tr>\n",
       "  <th>I(np.log(capital) ** 2)</th> <td>    0.0227</td> <td>    0.008</td> <td>    2.737</td> <td> 0.006</td> <td>    0.006</td> <td>    0.039</td>\n",
       "</tr>\n",
       "<tr>\n",
       "  <th>I(np.log(labour) ** 2)</th>  <td>    0.0203</td> <td>    0.021</td> <td>    0.965</td> <td> 0.334</td> <td>   -0.021</td> <td>    0.061</td>\n",
       "</tr>\n",
       "</table>"
      ],
      "text/plain": [
       "<class 'statsmodels.iolib.table.SimpleTable'>"
      ]
     },
     "execution_count": 11,
     "metadata": {},
     "output_type": "execute_result"
    }
   ],
   "source": [
    "# \n",
    "model.summary().tables[1]"
   ]
  },
  {
   "cell_type": "code",
   "execution_count": null,
   "id": "5de4f31d",
   "metadata": {},
   "outputs": [],
   "source": []
  }
 ],
 "metadata": {
  "kernelspec": {
   "display_name": "Python 3 (ipykernel)",
   "language": "python",
   "name": "python3"
  },
  "language_info": {
   "codemirror_mode": {
    "name": "ipython",
    "version": 3
   },
   "file_extension": ".py",
   "mimetype": "text/x-python",
   "name": "python",
   "nbconvert_exporter": "python",
   "pygments_lexer": "ipython3",
   "version": "3.8.8"
  }
 },
 "nbformat": 4,
 "nbformat_minor": 5
}
